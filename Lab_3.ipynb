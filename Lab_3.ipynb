{
 "cells": [
  {
   "cell_type": "code",
   "execution_count": 4,
   "id": "51737e6b",
   "metadata": {},
   "outputs": [
    {
     "name": "stderr",
     "output_type": "stream",
     "text": [
      "Downloading...\n",
      "From: https://drive.google.com/uc?id=1boIax8d9Sat6OJzkiIjjpqmtSZKuRYrx\n",
      "To: C:\\Users\\ninam\\Labs VNP\\ElectricCarData.csv\n",
      "\n",
      "  0%|          | 0.00/8.20k [00:00<?, ?B/s]\n",
      "100%|##########| 8.20k/8.20k [00:00<00:00, 8.37MB/s]\n"
     ]
    }
   ],
   "source": [
    "!gdown 1boIax8d9Sat6OJzkiIjjpqmtSZKuRYrx\n"
   ]
  },
  {
   "cell_type": "code",
   "execution_count": 19,
   "id": "a2f22e6e",
   "metadata": {},
   "outputs": [],
   "source": [
    "import pandas as pd"
   ]
  },
  {
   "cell_type": "code",
   "execution_count": 9,
   "id": "2eb33855",
   "metadata": {},
   "outputs": [],
   "source": [
    "data = pd.read_csv('ElectricCarData.csv')\n"
   ]
  },
  {
   "cell_type": "code",
   "execution_count": 11,
   "id": "b5dd4dad",
   "metadata": {},
   "outputs": [
    {
     "data": {
      "text/html": [
       "<div>\n",
       "<style scoped>\n",
       "    .dataframe tbody tr th:only-of-type {\n",
       "        vertical-align: middle;\n",
       "    }\n",
       "\n",
       "    .dataframe tbody tr th {\n",
       "        vertical-align: top;\n",
       "    }\n",
       "\n",
       "    .dataframe thead th {\n",
       "        text-align: right;\n",
       "    }\n",
       "</style>\n",
       "<table border=\"1\" class=\"dataframe\">\n",
       "  <thead>\n",
       "    <tr style=\"text-align: right;\">\n",
       "      <th></th>\n",
       "      <th>Brand</th>\n",
       "      <th>Model</th>\n",
       "      <th>AccelSec</th>\n",
       "      <th>TopSpeed_KmH</th>\n",
       "      <th>Range_Km</th>\n",
       "      <th>Efficiency_WhKm</th>\n",
       "      <th>FastCharge_KmH</th>\n",
       "      <th>RapidCharge</th>\n",
       "      <th>PowerTrain</th>\n",
       "      <th>PlugType</th>\n",
       "      <th>BodyStyle</th>\n",
       "      <th>Segment</th>\n",
       "      <th>Seats</th>\n",
       "      <th>PriceEuro</th>\n",
       "    </tr>\n",
       "  </thead>\n",
       "  <tbody>\n",
       "    <tr>\n",
       "      <th>0</th>\n",
       "      <td>Tesla</td>\n",
       "      <td>Model 3 Long Range Dual Motor</td>\n",
       "      <td>4.6</td>\n",
       "      <td>233</td>\n",
       "      <td>450</td>\n",
       "      <td>161</td>\n",
       "      <td>940</td>\n",
       "      <td>Yes</td>\n",
       "      <td>AWD</td>\n",
       "      <td>Type 2 CCS</td>\n",
       "      <td>Sedan</td>\n",
       "      <td>D</td>\n",
       "      <td>5</td>\n",
       "      <td>55480</td>\n",
       "    </tr>\n",
       "    <tr>\n",
       "      <th>1</th>\n",
       "      <td>Volkswagen</td>\n",
       "      <td>ID.3 Pure</td>\n",
       "      <td>10.0</td>\n",
       "      <td>160</td>\n",
       "      <td>270</td>\n",
       "      <td>167</td>\n",
       "      <td>250</td>\n",
       "      <td>Yes</td>\n",
       "      <td>RWD</td>\n",
       "      <td>Type 2 CCS</td>\n",
       "      <td>Hatchback</td>\n",
       "      <td>C</td>\n",
       "      <td>5</td>\n",
       "      <td>30000</td>\n",
       "    </tr>\n",
       "    <tr>\n",
       "      <th>2</th>\n",
       "      <td>Polestar</td>\n",
       "      <td>2</td>\n",
       "      <td>4.7</td>\n",
       "      <td>210</td>\n",
       "      <td>400</td>\n",
       "      <td>181</td>\n",
       "      <td>620</td>\n",
       "      <td>Yes</td>\n",
       "      <td>AWD</td>\n",
       "      <td>Type 2 CCS</td>\n",
       "      <td>Liftback</td>\n",
       "      <td>D</td>\n",
       "      <td>5</td>\n",
       "      <td>56440</td>\n",
       "    </tr>\n",
       "    <tr>\n",
       "      <th>3</th>\n",
       "      <td>BMW</td>\n",
       "      <td>iX3</td>\n",
       "      <td>6.8</td>\n",
       "      <td>180</td>\n",
       "      <td>360</td>\n",
       "      <td>206</td>\n",
       "      <td>560</td>\n",
       "      <td>Yes</td>\n",
       "      <td>RWD</td>\n",
       "      <td>Type 2 CCS</td>\n",
       "      <td>SUV</td>\n",
       "      <td>D</td>\n",
       "      <td>5</td>\n",
       "      <td>68040</td>\n",
       "    </tr>\n",
       "    <tr>\n",
       "      <th>4</th>\n",
       "      <td>Honda</td>\n",
       "      <td>e</td>\n",
       "      <td>9.5</td>\n",
       "      <td>145</td>\n",
       "      <td>170</td>\n",
       "      <td>168</td>\n",
       "      <td>190</td>\n",
       "      <td>Yes</td>\n",
       "      <td>RWD</td>\n",
       "      <td>Type 2 CCS</td>\n",
       "      <td>Hatchback</td>\n",
       "      <td>B</td>\n",
       "      <td>4</td>\n",
       "      <td>32997</td>\n",
       "    </tr>\n",
       "    <tr>\n",
       "      <th>5</th>\n",
       "      <td>Lucid</td>\n",
       "      <td>Air</td>\n",
       "      <td>2.8</td>\n",
       "      <td>250</td>\n",
       "      <td>610</td>\n",
       "      <td>180</td>\n",
       "      <td>620</td>\n",
       "      <td>Yes</td>\n",
       "      <td>AWD</td>\n",
       "      <td>Type 2 CCS</td>\n",
       "      <td>Sedan</td>\n",
       "      <td>F</td>\n",
       "      <td>5</td>\n",
       "      <td>105000</td>\n",
       "    </tr>\n",
       "    <tr>\n",
       "      <th>6</th>\n",
       "      <td>Volkswagen</td>\n",
       "      <td>e-Golf</td>\n",
       "      <td>9.6</td>\n",
       "      <td>150</td>\n",
       "      <td>190</td>\n",
       "      <td>168</td>\n",
       "      <td>220</td>\n",
       "      <td>Yes</td>\n",
       "      <td>FWD</td>\n",
       "      <td>Type 2 CCS</td>\n",
       "      <td>Hatchback</td>\n",
       "      <td>C</td>\n",
       "      <td>5</td>\n",
       "      <td>31900</td>\n",
       "    </tr>\n",
       "    <tr>\n",
       "      <th>7</th>\n",
       "      <td>Peugeot</td>\n",
       "      <td>e-208</td>\n",
       "      <td>8.1</td>\n",
       "      <td>150</td>\n",
       "      <td>275</td>\n",
       "      <td>164</td>\n",
       "      <td>420</td>\n",
       "      <td>Yes</td>\n",
       "      <td>FWD</td>\n",
       "      <td>Type 2 CCS</td>\n",
       "      <td>Hatchback</td>\n",
       "      <td>B</td>\n",
       "      <td>5</td>\n",
       "      <td>29682</td>\n",
       "    </tr>\n",
       "    <tr>\n",
       "      <th>8</th>\n",
       "      <td>Tesla</td>\n",
       "      <td>Model 3 Standard Range Plus</td>\n",
       "      <td>5.6</td>\n",
       "      <td>225</td>\n",
       "      <td>310</td>\n",
       "      <td>153</td>\n",
       "      <td>650</td>\n",
       "      <td>Yes</td>\n",
       "      <td>RWD</td>\n",
       "      <td>Type 2 CCS</td>\n",
       "      <td>Sedan</td>\n",
       "      <td>D</td>\n",
       "      <td>5</td>\n",
       "      <td>46380</td>\n",
       "    </tr>\n",
       "    <tr>\n",
       "      <th>9</th>\n",
       "      <td>Audi</td>\n",
       "      <td>Q4 e-tron</td>\n",
       "      <td>6.3</td>\n",
       "      <td>180</td>\n",
       "      <td>400</td>\n",
       "      <td>193</td>\n",
       "      <td>540</td>\n",
       "      <td>Yes</td>\n",
       "      <td>AWD</td>\n",
       "      <td>Type 2 CCS</td>\n",
       "      <td>SUV</td>\n",
       "      <td>D</td>\n",
       "      <td>5</td>\n",
       "      <td>55000</td>\n",
       "    </tr>\n",
       "    <tr>\n",
       "      <th>10</th>\n",
       "      <td>Mercedes</td>\n",
       "      <td>EQC 400 4MATIC</td>\n",
       "      <td>5.1</td>\n",
       "      <td>180</td>\n",
       "      <td>370</td>\n",
       "      <td>216</td>\n",
       "      <td>440</td>\n",
       "      <td>Yes</td>\n",
       "      <td>AWD</td>\n",
       "      <td>Type 2 CCS</td>\n",
       "      <td>SUV</td>\n",
       "      <td>D</td>\n",
       "      <td>5</td>\n",
       "      <td>69484</td>\n",
       "    </tr>\n",
       "    <tr>\n",
       "      <th>11</th>\n",
       "      <td>Nissan</td>\n",
       "      <td>Leaf</td>\n",
       "      <td>7.9</td>\n",
       "      <td>144</td>\n",
       "      <td>220</td>\n",
       "      <td>164</td>\n",
       "      <td>230</td>\n",
       "      <td>Yes</td>\n",
       "      <td>FWD</td>\n",
       "      <td>Type 2 CHAdeMO</td>\n",
       "      <td>Hatchback</td>\n",
       "      <td>C</td>\n",
       "      <td>5</td>\n",
       "      <td>29234</td>\n",
       "    </tr>\n",
       "    <tr>\n",
       "      <th>12</th>\n",
       "      <td>Hyundai</td>\n",
       "      <td>Kona Electric 64 kWh</td>\n",
       "      <td>7.9</td>\n",
       "      <td>167</td>\n",
       "      <td>400</td>\n",
       "      <td>160</td>\n",
       "      <td>380</td>\n",
       "      <td>Yes</td>\n",
       "      <td>FWD</td>\n",
       "      <td>Type 2 CCS</td>\n",
       "      <td>SUV</td>\n",
       "      <td>B</td>\n",
       "      <td>5</td>\n",
       "      <td>40795</td>\n",
       "    </tr>\n",
       "    <tr>\n",
       "      <th>13</th>\n",
       "      <td>BMW</td>\n",
       "      <td>i4</td>\n",
       "      <td>4.0</td>\n",
       "      <td>200</td>\n",
       "      <td>450</td>\n",
       "      <td>178</td>\n",
       "      <td>650</td>\n",
       "      <td>Yes</td>\n",
       "      <td>RWD</td>\n",
       "      <td>Type 2 CCS</td>\n",
       "      <td>Sedan</td>\n",
       "      <td>D</td>\n",
       "      <td>5</td>\n",
       "      <td>65000</td>\n",
       "    </tr>\n",
       "    <tr>\n",
       "      <th>14</th>\n",
       "      <td>Hyundai</td>\n",
       "      <td>IONIQ Electric</td>\n",
       "      <td>9.7</td>\n",
       "      <td>165</td>\n",
       "      <td>250</td>\n",
       "      <td>153</td>\n",
       "      <td>210</td>\n",
       "      <td>Yes</td>\n",
       "      <td>FWD</td>\n",
       "      <td>Type 2 CCS</td>\n",
       "      <td>Liftback</td>\n",
       "      <td>C</td>\n",
       "      <td>5</td>\n",
       "      <td>34459</td>\n",
       "    </tr>\n",
       "  </tbody>\n",
       "</table>\n",
       "</div>"
      ],
      "text/plain": [
       "          Brand                          Model  AccelSec  TopSpeed_KmH  \\\n",
       "0        Tesla   Model 3 Long Range Dual Motor       4.6           233   \n",
       "1   Volkswagen                       ID.3 Pure      10.0           160   \n",
       "2     Polestar                               2       4.7           210   \n",
       "3          BMW                            iX3        6.8           180   \n",
       "4        Honda                              e        9.5           145   \n",
       "5        Lucid                            Air        2.8           250   \n",
       "6   Volkswagen                         e-Golf        9.6           150   \n",
       "7      Peugeot                          e-208        8.1           150   \n",
       "8        Tesla     Model 3 Standard Range Plus       5.6           225   \n",
       "9         Audi                      Q4 e-tron        6.3           180   \n",
       "10    Mercedes                  EQC 400 4MATIC       5.1           180   \n",
       "11      Nissan                           Leaf        7.9           144   \n",
       "12     Hyundai            Kona Electric 64 kWh       7.9           167   \n",
       "13         BMW                             i4        4.0           200   \n",
       "14     Hyundai                  IONIQ Electric       9.7           165   \n",
       "\n",
       "    Range_Km  Efficiency_WhKm FastCharge_KmH RapidCharge PowerTrain  \\\n",
       "0        450              161            940         Yes        AWD   \n",
       "1        270              167            250         Yes        RWD   \n",
       "2        400              181            620         Yes        AWD   \n",
       "3        360              206            560         Yes        RWD   \n",
       "4        170              168            190         Yes        RWD   \n",
       "5        610              180            620         Yes        AWD   \n",
       "6        190              168            220         Yes        FWD   \n",
       "7        275              164            420         Yes        FWD   \n",
       "8        310              153            650         Yes        RWD   \n",
       "9        400              193            540         Yes        AWD   \n",
       "10       370              216            440         Yes        AWD   \n",
       "11       220              164            230         Yes        FWD   \n",
       "12       400              160            380         Yes        FWD   \n",
       "13       450              178            650         Yes        RWD   \n",
       "14       250              153            210         Yes        FWD   \n",
       "\n",
       "          PlugType  BodyStyle Segment  Seats  PriceEuro  \n",
       "0       Type 2 CCS      Sedan       D      5      55480  \n",
       "1       Type 2 CCS  Hatchback       C      5      30000  \n",
       "2       Type 2 CCS   Liftback       D      5      56440  \n",
       "3       Type 2 CCS        SUV       D      5      68040  \n",
       "4       Type 2 CCS  Hatchback       B      4      32997  \n",
       "5       Type 2 CCS      Sedan       F      5     105000  \n",
       "6       Type 2 CCS  Hatchback       C      5      31900  \n",
       "7       Type 2 CCS  Hatchback       B      5      29682  \n",
       "8       Type 2 CCS      Sedan       D      5      46380  \n",
       "9       Type 2 CCS        SUV       D      5      55000  \n",
       "10      Type 2 CCS        SUV       D      5      69484  \n",
       "11  Type 2 CHAdeMO  Hatchback       C      5      29234  \n",
       "12      Type 2 CCS        SUV       B      5      40795  \n",
       "13      Type 2 CCS      Sedan       D      5      65000  \n",
       "14      Type 2 CCS   Liftback       C      5      34459  "
      ]
     },
     "execution_count": 11,
     "metadata": {},
     "output_type": "execute_result"
    }
   ],
   "source": [
    "data.head(15)"
   ]
  },
  {
   "cell_type": "code",
   "execution_count": 12,
   "id": "cca9f7d6",
   "metadata": {},
   "outputs": [],
   "source": [
    "from sklearn.preprocessing import LabelEncoder\n",
    "encoder = LabelEncoder()"
   ]
  },
  {
   "cell_type": "code",
   "execution_count": 14,
   "id": "db0de478",
   "metadata": {},
   "outputs": [],
   "source": [
    "df_copy = data.copy()\n"
   ]
  },
  {
   "cell_type": "code",
   "execution_count": 15,
   "id": "036f6f66",
   "metadata": {},
   "outputs": [
    {
     "data": {
      "text/plain": [
       "array(['Tesla ', 'Volkswagen ', 'Polestar ', 'BMW ', 'Honda ', 'Lucid ',\n",
       "       'Volkswagen ', 'Peugeot ', 'Tesla ', 'Audi ', 'Mercedes ',\n",
       "       'Nissan ', 'Hyundai ', 'BMW ', 'Hyundai ', 'Volkswagen ',\n",
       "       'Porsche ', 'Volkswagen ', 'MG ', 'Mini ', 'Opel ', 'Tesla ',\n",
       "       'Skoda ', 'Audi ', 'Tesla ', 'Volkswagen ', 'Volkswagen ',\n",
       "       'Volvo ', 'BMW ', 'Peugeot ', 'Audi ', 'Kia ', 'Renault ',\n",
       "       'Tesla ', 'Mazda ', 'Nissan ', 'Lexus ', 'CUPRA ', 'Renault ',\n",
       "       'Mercedes ', 'Tesla ', 'Hyundai ', 'Audi ', 'Skoda ', 'SEAT ',\n",
       "       'Kia ', 'Opel ', 'Porsche ', 'Lightyear ', 'Aiways ', 'Audi ',\n",
       "       'Tesla ', 'Opel ', 'Skoda ', 'Tesla ', 'Honda ', 'DS ', 'Renault ',\n",
       "       'Citroen ', 'Tesla ', 'Renault ', 'Tesla ', 'Nissan ', 'Jaguar ',\n",
       "       'Ford ', 'Porsche ', 'Nissan ', 'Tesla ', 'Renault ', 'Ford ',\n",
       "       'BMW ', 'Skoda ', 'Porsche ', 'Byton ', 'Sono ', 'Kia ', 'Audi ',\n",
       "       'Smart ', 'Ford ', 'Porsche ', 'Volkswagen ', 'Tesla ', 'Smart ',\n",
       "       'Ford ', 'Mercedes ', 'Fiat ', 'Tesla ', 'Audi ', 'Skoda ',\n",
       "       'Skoda ', 'Audi ', 'Smart ', 'Kia ', 'Nissan ', 'Fiat ',\n",
       "       'Volkswagen ', 'Kia ', 'Byton ', 'Nissan ', 'Audi ', 'Nissan ',\n",
       "       'Nissan ', 'Byton '], dtype=object)"
      ]
     },
     "execution_count": 15,
     "metadata": {},
     "output_type": "execute_result"
    }
   ],
   "source": [
    "df_copy['Brand'].values\n"
   ]
  },
  {
   "cell_type": "code",
   "execution_count": 25,
   "id": "b4f7d74d",
   "metadata": {},
   "outputs": [
    {
     "data": {
      "text/plain": [
       "Brand              0\n",
       "Model              0\n",
       "AccelSec           0\n",
       "TopSpeed_KmH       0\n",
       "Range_Km           0\n",
       "Efficiency_WhKm    0\n",
       "FastCharge_KmH     0\n",
       "RapidCharge        0\n",
       "PowerTrain         0\n",
       "PlugType           0\n",
       "BodyStyle          0\n",
       "Segment            0\n",
       "Seats              0\n",
       "PriceEuro          0\n",
       "dtype: int64"
      ]
     },
     "execution_count": 25,
     "metadata": {},
     "output_type": "execute_result"
    }
   ],
   "source": [
    "df_copy.isnull().sum()"
   ]
  },
  {
   "cell_type": "code",
   "execution_count": 16,
   "id": "da3e7dbb",
   "metadata": {},
   "outputs": [],
   "source": [
    "df_copy['Brand'] = encoder.fit_transform(df_copy['Brand'])\n"
   ]
  },
  {
   "cell_type": "code",
   "execution_count": 18,
   "id": "63c792b0",
   "metadata": {},
   "outputs": [
    {
     "data": {
      "text/plain": [
       "0      30\n",
       "1      31\n",
       "2      23\n",
       "3       2\n",
       "4       9\n",
       "       ..\n",
       "98     20\n",
       "99      1\n",
       "100    20\n",
       "101    20\n",
       "102     3\n",
       "Name: Brand, Length: 103, dtype: int32"
      ]
     },
     "execution_count": 18,
     "metadata": {},
     "output_type": "execute_result"
    }
   ],
   "source": [
    "df_copy['Brand']"
   ]
  },
  {
   "cell_type": "code",
   "execution_count": 20,
   "id": "333f0ecf",
   "metadata": {},
   "outputs": [],
   "source": [
    "df_copy['Model'] = encoder.fit_transform(df_copy['Model'])\n"
   ]
  },
  {
   "cell_type": "code",
   "execution_count": 21,
   "id": "c0f10642",
   "metadata": {},
   "outputs": [
    {
     "data": {
      "text/plain": [
       "0       46\n",
       "1       33\n",
       "2        0\n",
       "3      101\n",
       "4       78\n",
       "      ... \n",
       "98       6\n",
       "99      94\n",
       "100      8\n",
       "101     10\n",
       "102     42\n",
       "Name: Model, Length: 103, dtype: int32"
      ]
     },
     "execution_count": 21,
     "metadata": {},
     "output_type": "execute_result"
    }
   ],
   "source": [
    "df_copy['Model']"
   ]
  },
  {
   "cell_type": "code",
   "execution_count": 26,
   "id": "5771b47f",
   "metadata": {},
   "outputs": [],
   "source": [
    "df_copy['RapidCharge'] = encoder.fit_transform(df_copy['RapidCharge'])\n"
   ]
  },
  {
   "cell_type": "code",
   "execution_count": 27,
   "id": "91908748",
   "metadata": {},
   "outputs": [
    {
     "data": {
      "text/plain": [
       "0      1\n",
       "1      1\n",
       "2      1\n",
       "3      1\n",
       "4      1\n",
       "      ..\n",
       "98     1\n",
       "99     1\n",
       "100    1\n",
       "101    1\n",
       "102    1\n",
       "Name: RapidCharge, Length: 103, dtype: int32"
      ]
     },
     "execution_count": 27,
     "metadata": {},
     "output_type": "execute_result"
    }
   ],
   "source": [
    "df_copy['RapidCharge']"
   ]
  },
  {
   "cell_type": "code",
   "execution_count": 28,
   "id": "50a76c42",
   "metadata": {},
   "outputs": [
    {
     "data": {
      "text/html": [
       "<div>\n",
       "<style scoped>\n",
       "    .dataframe tbody tr th:only-of-type {\n",
       "        vertical-align: middle;\n",
       "    }\n",
       "\n",
       "    .dataframe tbody tr th {\n",
       "        vertical-align: top;\n",
       "    }\n",
       "\n",
       "    .dataframe thead th {\n",
       "        text-align: right;\n",
       "    }\n",
       "</style>\n",
       "<table border=\"1\" class=\"dataframe\">\n",
       "  <thead>\n",
       "    <tr style=\"text-align: right;\">\n",
       "      <th></th>\n",
       "      <th>Brand</th>\n",
       "      <th>Model</th>\n",
       "      <th>AccelSec</th>\n",
       "      <th>TopSpeed_KmH</th>\n",
       "      <th>Range_Km</th>\n",
       "      <th>Efficiency_WhKm</th>\n",
       "      <th>FastCharge_KmH</th>\n",
       "      <th>RapidCharge</th>\n",
       "      <th>PowerTrain</th>\n",
       "      <th>PlugType</th>\n",
       "      <th>BodyStyle</th>\n",
       "      <th>Segment</th>\n",
       "      <th>Seats</th>\n",
       "      <th>PriceEuro</th>\n",
       "    </tr>\n",
       "  </thead>\n",
       "  <tbody>\n",
       "    <tr>\n",
       "      <th>0</th>\n",
       "      <td>30</td>\n",
       "      <td>46</td>\n",
       "      <td>4.6</td>\n",
       "      <td>233</td>\n",
       "      <td>450</td>\n",
       "      <td>161</td>\n",
       "      <td>940</td>\n",
       "      <td>1</td>\n",
       "      <td>AWD</td>\n",
       "      <td>Type 2 CCS</td>\n",
       "      <td>Sedan</td>\n",
       "      <td>D</td>\n",
       "      <td>5</td>\n",
       "      <td>55480</td>\n",
       "    </tr>\n",
       "    <tr>\n",
       "      <th>1</th>\n",
       "      <td>31</td>\n",
       "      <td>33</td>\n",
       "      <td>10.0</td>\n",
       "      <td>160</td>\n",
       "      <td>270</td>\n",
       "      <td>167</td>\n",
       "      <td>250</td>\n",
       "      <td>1</td>\n",
       "      <td>RWD</td>\n",
       "      <td>Type 2 CCS</td>\n",
       "      <td>Hatchback</td>\n",
       "      <td>C</td>\n",
       "      <td>5</td>\n",
       "      <td>30000</td>\n",
       "    </tr>\n",
       "    <tr>\n",
       "      <th>2</th>\n",
       "      <td>23</td>\n",
       "      <td>0</td>\n",
       "      <td>4.7</td>\n",
       "      <td>210</td>\n",
       "      <td>400</td>\n",
       "      <td>181</td>\n",
       "      <td>620</td>\n",
       "      <td>1</td>\n",
       "      <td>AWD</td>\n",
       "      <td>Type 2 CCS</td>\n",
       "      <td>Liftback</td>\n",
       "      <td>D</td>\n",
       "      <td>5</td>\n",
       "      <td>56440</td>\n",
       "    </tr>\n",
       "    <tr>\n",
       "      <th>3</th>\n",
       "      <td>2</td>\n",
       "      <td>101</td>\n",
       "      <td>6.8</td>\n",
       "      <td>180</td>\n",
       "      <td>360</td>\n",
       "      <td>206</td>\n",
       "      <td>560</td>\n",
       "      <td>1</td>\n",
       "      <td>RWD</td>\n",
       "      <td>Type 2 CCS</td>\n",
       "      <td>SUV</td>\n",
       "      <td>D</td>\n",
       "      <td>5</td>\n",
       "      <td>68040</td>\n",
       "    </tr>\n",
       "    <tr>\n",
       "      <th>4</th>\n",
       "      <td>9</td>\n",
       "      <td>78</td>\n",
       "      <td>9.5</td>\n",
       "      <td>145</td>\n",
       "      <td>170</td>\n",
       "      <td>168</td>\n",
       "      <td>190</td>\n",
       "      <td>1</td>\n",
       "      <td>RWD</td>\n",
       "      <td>Type 2 CCS</td>\n",
       "      <td>Hatchback</td>\n",
       "      <td>B</td>\n",
       "      <td>4</td>\n",
       "      <td>32997</td>\n",
       "    </tr>\n",
       "  </tbody>\n",
       "</table>\n",
       "</div>"
      ],
      "text/plain": [
       "   Brand  Model  AccelSec  TopSpeed_KmH  Range_Km  Efficiency_WhKm  \\\n",
       "0     30     46       4.6           233       450              161   \n",
       "1     31     33      10.0           160       270              167   \n",
       "2     23      0       4.7           210       400              181   \n",
       "3      2    101       6.8           180       360              206   \n",
       "4      9     78       9.5           145       170              168   \n",
       "\n",
       "  FastCharge_KmH  RapidCharge PowerTrain    PlugType  BodyStyle Segment  \\\n",
       "0            940            1        AWD  Type 2 CCS      Sedan       D   \n",
       "1            250            1        RWD  Type 2 CCS  Hatchback       C   \n",
       "2            620            1        AWD  Type 2 CCS   Liftback       D   \n",
       "3            560            1        RWD  Type 2 CCS        SUV       D   \n",
       "4            190            1        RWD  Type 2 CCS  Hatchback       B   \n",
       "\n",
       "   Seats  PriceEuro  \n",
       "0      5      55480  \n",
       "1      5      30000  \n",
       "2      5      56440  \n",
       "3      5      68040  \n",
       "4      4      32997  "
      ]
     },
     "execution_count": 28,
     "metadata": {},
     "output_type": "execute_result"
    }
   ],
   "source": [
    "df_copy.head()"
   ]
  },
  {
   "cell_type": "code",
   "execution_count": 30,
   "id": "9c1ace17",
   "metadata": {},
   "outputs": [],
   "source": [
    "df_copy['PowerTrain'] = encoder.fit_transform(df_copy['PowerTrain'])\n"
   ]
  },
  {
   "cell_type": "code",
   "execution_count": 31,
   "id": "ff63d19c",
   "metadata": {},
   "outputs": [
    {
     "data": {
      "text/plain": [
       "0      0\n",
       "1      2\n",
       "2      0\n",
       "3      2\n",
       "4      2\n",
       "      ..\n",
       "98     1\n",
       "99     0\n",
       "100    0\n",
       "101    0\n",
       "102    0\n",
       "Name: PowerTrain, Length: 103, dtype: int32"
      ]
     },
     "execution_count": 31,
     "metadata": {},
     "output_type": "execute_result"
    }
   ],
   "source": [
    "df_copy['PowerTrain']"
   ]
  },
  {
   "cell_type": "code",
   "execution_count": 32,
   "id": "ffdd7af5",
   "metadata": {},
   "outputs": [],
   "source": [
    "df_copy['BodyStyle'] = encoder.fit_transform(df_copy['BodyStyle'])\n"
   ]
  },
  {
   "cell_type": "code",
   "execution_count": 33,
   "id": "00c7ae4e",
   "metadata": {},
   "outputs": [
    {
     "data": {
      "text/plain": [
       "0      7\n",
       "1      1\n",
       "2      2\n",
       "3      6\n",
       "4      1\n",
       "      ..\n",
       "98     1\n",
       "99     6\n",
       "100    1\n",
       "101    1\n",
       "102    6\n",
       "Name: BodyStyle, Length: 103, dtype: int32"
      ]
     },
     "execution_count": 33,
     "metadata": {},
     "output_type": "execute_result"
    }
   ],
   "source": [
    "df_copy['BodyStyle']"
   ]
  },
  {
   "cell_type": "code",
   "execution_count": 34,
   "id": "be1be5a1",
   "metadata": {},
   "outputs": [],
   "source": [
    "df_copy['Segment'] = encoder.fit_transform(df_copy['Segment'])\n"
   ]
  },
  {
   "cell_type": "code",
   "execution_count": 35,
   "id": "53357c02",
   "metadata": {},
   "outputs": [
    {
     "data": {
      "text/plain": [
       "0      3\n",
       "1      2\n",
       "2      3\n",
       "3      3\n",
       "4      1\n",
       "      ..\n",
       "98     2\n",
       "99     4\n",
       "100    2\n",
       "101    2\n",
       "102    4\n",
       "Name: Segment, Length: 103, dtype: int32"
      ]
     },
     "execution_count": 35,
     "metadata": {},
     "output_type": "execute_result"
    }
   ],
   "source": [
    "df_copy['Segment']"
   ]
  },
  {
   "cell_type": "code",
   "execution_count": 36,
   "id": "194e3cfb",
   "metadata": {},
   "outputs": [
    {
     "data": {
      "text/html": [
       "<div>\n",
       "<style scoped>\n",
       "    .dataframe tbody tr th:only-of-type {\n",
       "        vertical-align: middle;\n",
       "    }\n",
       "\n",
       "    .dataframe tbody tr th {\n",
       "        vertical-align: top;\n",
       "    }\n",
       "\n",
       "    .dataframe thead th {\n",
       "        text-align: right;\n",
       "    }\n",
       "</style>\n",
       "<table border=\"1\" class=\"dataframe\">\n",
       "  <thead>\n",
       "    <tr style=\"text-align: right;\">\n",
       "      <th></th>\n",
       "      <th>Brand</th>\n",
       "      <th>Model</th>\n",
       "      <th>AccelSec</th>\n",
       "      <th>TopSpeed_KmH</th>\n",
       "      <th>Range_Km</th>\n",
       "      <th>Efficiency_WhKm</th>\n",
       "      <th>FastCharge_KmH</th>\n",
       "      <th>RapidCharge</th>\n",
       "      <th>PowerTrain</th>\n",
       "      <th>PlugType</th>\n",
       "      <th>BodyStyle</th>\n",
       "      <th>Segment</th>\n",
       "      <th>Seats</th>\n",
       "      <th>PriceEuro</th>\n",
       "    </tr>\n",
       "  </thead>\n",
       "  <tbody>\n",
       "    <tr>\n",
       "      <th>0</th>\n",
       "      <td>30</td>\n",
       "      <td>46</td>\n",
       "      <td>4.6</td>\n",
       "      <td>233</td>\n",
       "      <td>450</td>\n",
       "      <td>161</td>\n",
       "      <td>940</td>\n",
       "      <td>1</td>\n",
       "      <td>0</td>\n",
       "      <td>Type 2 CCS</td>\n",
       "      <td>7</td>\n",
       "      <td>3</td>\n",
       "      <td>5</td>\n",
       "      <td>55480</td>\n",
       "    </tr>\n",
       "    <tr>\n",
       "      <th>1</th>\n",
       "      <td>31</td>\n",
       "      <td>33</td>\n",
       "      <td>10.0</td>\n",
       "      <td>160</td>\n",
       "      <td>270</td>\n",
       "      <td>167</td>\n",
       "      <td>250</td>\n",
       "      <td>1</td>\n",
       "      <td>2</td>\n",
       "      <td>Type 2 CCS</td>\n",
       "      <td>1</td>\n",
       "      <td>2</td>\n",
       "      <td>5</td>\n",
       "      <td>30000</td>\n",
       "    </tr>\n",
       "    <tr>\n",
       "      <th>2</th>\n",
       "      <td>23</td>\n",
       "      <td>0</td>\n",
       "      <td>4.7</td>\n",
       "      <td>210</td>\n",
       "      <td>400</td>\n",
       "      <td>181</td>\n",
       "      <td>620</td>\n",
       "      <td>1</td>\n",
       "      <td>0</td>\n",
       "      <td>Type 2 CCS</td>\n",
       "      <td>2</td>\n",
       "      <td>3</td>\n",
       "      <td>5</td>\n",
       "      <td>56440</td>\n",
       "    </tr>\n",
       "    <tr>\n",
       "      <th>3</th>\n",
       "      <td>2</td>\n",
       "      <td>101</td>\n",
       "      <td>6.8</td>\n",
       "      <td>180</td>\n",
       "      <td>360</td>\n",
       "      <td>206</td>\n",
       "      <td>560</td>\n",
       "      <td>1</td>\n",
       "      <td>2</td>\n",
       "      <td>Type 2 CCS</td>\n",
       "      <td>6</td>\n",
       "      <td>3</td>\n",
       "      <td>5</td>\n",
       "      <td>68040</td>\n",
       "    </tr>\n",
       "    <tr>\n",
       "      <th>4</th>\n",
       "      <td>9</td>\n",
       "      <td>78</td>\n",
       "      <td>9.5</td>\n",
       "      <td>145</td>\n",
       "      <td>170</td>\n",
       "      <td>168</td>\n",
       "      <td>190</td>\n",
       "      <td>1</td>\n",
       "      <td>2</td>\n",
       "      <td>Type 2 CCS</td>\n",
       "      <td>1</td>\n",
       "      <td>1</td>\n",
       "      <td>4</td>\n",
       "      <td>32997</td>\n",
       "    </tr>\n",
       "  </tbody>\n",
       "</table>\n",
       "</div>"
      ],
      "text/plain": [
       "   Brand  Model  AccelSec  TopSpeed_KmH  Range_Km  Efficiency_WhKm  \\\n",
       "0     30     46       4.6           233       450              161   \n",
       "1     31     33      10.0           160       270              167   \n",
       "2     23      0       4.7           210       400              181   \n",
       "3      2    101       6.8           180       360              206   \n",
       "4      9     78       9.5           145       170              168   \n",
       "\n",
       "  FastCharge_KmH  RapidCharge  PowerTrain    PlugType  BodyStyle  Segment  \\\n",
       "0            940            1           0  Type 2 CCS          7        3   \n",
       "1            250            1           2  Type 2 CCS          1        2   \n",
       "2            620            1           0  Type 2 CCS          2        3   \n",
       "3            560            1           2  Type 2 CCS          6        3   \n",
       "4            190            1           2  Type 2 CCS          1        1   \n",
       "\n",
       "   Seats  PriceEuro  \n",
       "0      5      55480  \n",
       "1      5      30000  \n",
       "2      5      56440  \n",
       "3      5      68040  \n",
       "4      4      32997  "
      ]
     },
     "execution_count": 36,
     "metadata": {},
     "output_type": "execute_result"
    }
   ],
   "source": [
    "df_copy.head()"
   ]
  },
  {
   "cell_type": "code",
   "execution_count": 37,
   "id": "c77e43e9",
   "metadata": {},
   "outputs": [],
   "source": [
    "from sklearn.preprocessing import OneHotEncoder\n",
    "encoder2 = OneHotEncoder()\n"
   ]
  },
  {
   "cell_type": "code",
   "execution_count": 38,
   "id": "b897ca29",
   "metadata": {},
   "outputs": [
    {
     "data": {
      "text/html": [
       "<div>\n",
       "<style scoped>\n",
       "    .dataframe tbody tr th:only-of-type {\n",
       "        vertical-align: middle;\n",
       "    }\n",
       "\n",
       "    .dataframe tbody tr th {\n",
       "        vertical-align: top;\n",
       "    }\n",
       "\n",
       "    .dataframe thead th {\n",
       "        text-align: right;\n",
       "    }\n",
       "</style>\n",
       "<table border=\"1\" class=\"dataframe\">\n",
       "  <thead>\n",
       "    <tr style=\"text-align: right;\">\n",
       "      <th></th>\n",
       "      <th>0</th>\n",
       "      <th>1</th>\n",
       "      <th>2</th>\n",
       "      <th>3</th>\n",
       "    </tr>\n",
       "  </thead>\n",
       "  <tbody>\n",
       "    <tr>\n",
       "      <th>0</th>\n",
       "      <td>0.0</td>\n",
       "      <td>0.0</td>\n",
       "      <td>1.0</td>\n",
       "      <td>0.0</td>\n",
       "    </tr>\n",
       "    <tr>\n",
       "      <th>1</th>\n",
       "      <td>0.0</td>\n",
       "      <td>0.0</td>\n",
       "      <td>1.0</td>\n",
       "      <td>0.0</td>\n",
       "    </tr>\n",
       "    <tr>\n",
       "      <th>2</th>\n",
       "      <td>0.0</td>\n",
       "      <td>0.0</td>\n",
       "      <td>1.0</td>\n",
       "      <td>0.0</td>\n",
       "    </tr>\n",
       "    <tr>\n",
       "      <th>3</th>\n",
       "      <td>0.0</td>\n",
       "      <td>0.0</td>\n",
       "      <td>1.0</td>\n",
       "      <td>0.0</td>\n",
       "    </tr>\n",
       "    <tr>\n",
       "      <th>4</th>\n",
       "      <td>0.0</td>\n",
       "      <td>0.0</td>\n",
       "      <td>1.0</td>\n",
       "      <td>0.0</td>\n",
       "    </tr>\n",
       "    <tr>\n",
       "      <th>...</th>\n",
       "      <td>...</td>\n",
       "      <td>...</td>\n",
       "      <td>...</td>\n",
       "      <td>...</td>\n",
       "    </tr>\n",
       "    <tr>\n",
       "      <th>98</th>\n",
       "      <td>0.0</td>\n",
       "      <td>0.0</td>\n",
       "      <td>1.0</td>\n",
       "      <td>0.0</td>\n",
       "    </tr>\n",
       "    <tr>\n",
       "      <th>99</th>\n",
       "      <td>0.0</td>\n",
       "      <td>0.0</td>\n",
       "      <td>1.0</td>\n",
       "      <td>0.0</td>\n",
       "    </tr>\n",
       "    <tr>\n",
       "      <th>100</th>\n",
       "      <td>0.0</td>\n",
       "      <td>0.0</td>\n",
       "      <td>1.0</td>\n",
       "      <td>0.0</td>\n",
       "    </tr>\n",
       "    <tr>\n",
       "      <th>101</th>\n",
       "      <td>0.0</td>\n",
       "      <td>0.0</td>\n",
       "      <td>1.0</td>\n",
       "      <td>0.0</td>\n",
       "    </tr>\n",
       "    <tr>\n",
       "      <th>102</th>\n",
       "      <td>0.0</td>\n",
       "      <td>0.0</td>\n",
       "      <td>1.0</td>\n",
       "      <td>0.0</td>\n",
       "    </tr>\n",
       "  </tbody>\n",
       "</table>\n",
       "<p>103 rows × 4 columns</p>\n",
       "</div>"
      ],
      "text/plain": [
       "       0    1    2    3\n",
       "0    0.0  0.0  1.0  0.0\n",
       "1    0.0  0.0  1.0  0.0\n",
       "2    0.0  0.0  1.0  0.0\n",
       "3    0.0  0.0  1.0  0.0\n",
       "4    0.0  0.0  1.0  0.0\n",
       "..   ...  ...  ...  ...\n",
       "98   0.0  0.0  1.0  0.0\n",
       "99   0.0  0.0  1.0  0.0\n",
       "100  0.0  0.0  1.0  0.0\n",
       "101  0.0  0.0  1.0  0.0\n",
       "102  0.0  0.0  1.0  0.0\n",
       "\n",
       "[103 rows x 4 columns]"
      ]
     },
     "execution_count": 38,
     "metadata": {},
     "output_type": "execute_result"
    }
   ],
   "source": [
    "pd.DataFrame(encoder2.fit_transform(df_copy['PlugType'].to_numpy().reshape(-1, 1)).toarray())\n"
   ]
  },
  {
   "cell_type": "code",
   "execution_count": 43,
   "id": "78961a27",
   "metadata": {},
   "outputs": [
    {
     "data": {
      "text/plain": [
       "{'Type 2': 0, 'Type 1 CHAdeMO': 1, 'Type 2 CHAdeMO': 2, 'Type 2 CCS': 3}"
      ]
     },
     "execution_count": 43,
     "metadata": {},
     "output_type": "execute_result"
    }
   ],
   "source": [
    "dict = {}\n",
    "classes = list(set(df_copy['PlugType']))\n",
    "\n",
    "for i in range(0, len(classes)):\n",
    "    dict[classes[i]] = i\n",
    "\n",
    "dict"
   ]
  },
  {
   "cell_type": "code",
   "execution_count": 44,
   "id": "6248124e",
   "metadata": {},
   "outputs": [],
   "source": [
    "df_copy['PlugType'] = [dict[i] for i in df_copy['PlugType']]\n"
   ]
  },
  {
   "cell_type": "code",
   "execution_count": 45,
   "id": "bb91b37d",
   "metadata": {},
   "outputs": [
    {
     "data": {
      "text/plain": [
       "0      3\n",
       "1      3\n",
       "2      3\n",
       "3      3\n",
       "4      3\n",
       "      ..\n",
       "98     3\n",
       "99     3\n",
       "100    3\n",
       "101    3\n",
       "102    3\n",
       "Name: PlugType, Length: 103, dtype: int64"
      ]
     },
     "execution_count": 45,
     "metadata": {},
     "output_type": "execute_result"
    }
   ],
   "source": [
    "df_copy['PlugType']"
   ]
  },
  {
   "cell_type": "code",
   "execution_count": 48,
   "id": "275a56f0",
   "metadata": {},
   "outputs": [
    {
     "data": {
      "text/plain": [
       "0     3\n",
       "1     3\n",
       "2     3\n",
       "3     3\n",
       "4     3\n",
       "5     3\n",
       "6     3\n",
       "7     3\n",
       "8     3\n",
       "9     3\n",
       "10    3\n",
       "11    2\n",
       "12    3\n",
       "13    3\n",
       "14    3\n",
       "15    3\n",
       "16    3\n",
       "17    3\n",
       "18    3\n",
       "19    3\n",
       "20    3\n",
       "21    3\n",
       "22    3\n",
       "23    3\n",
       "24    3\n",
       "25    3\n",
       "26    3\n",
       "27    3\n",
       "28    3\n",
       "29    3\n",
       "Name: PlugType, dtype: int64"
      ]
     },
     "execution_count": 48,
     "metadata": {},
     "output_type": "execute_result"
    }
   ],
   "source": [
    "df_copy['PlugType'].head(30)"
   ]
  },
  {
   "cell_type": "code",
   "execution_count": 49,
   "id": "dcebacd4",
   "metadata": {},
   "outputs": [
    {
     "data": {
      "text/html": [
       "<div>\n",
       "<style scoped>\n",
       "    .dataframe tbody tr th:only-of-type {\n",
       "        vertical-align: middle;\n",
       "    }\n",
       "\n",
       "    .dataframe tbody tr th {\n",
       "        vertical-align: top;\n",
       "    }\n",
       "\n",
       "    .dataframe thead th {\n",
       "        text-align: right;\n",
       "    }\n",
       "</style>\n",
       "<table border=\"1\" class=\"dataframe\">\n",
       "  <thead>\n",
       "    <tr style=\"text-align: right;\">\n",
       "      <th></th>\n",
       "      <th>Brand</th>\n",
       "      <th>Model</th>\n",
       "      <th>AccelSec</th>\n",
       "      <th>TopSpeed_KmH</th>\n",
       "      <th>Range_Km</th>\n",
       "      <th>Efficiency_WhKm</th>\n",
       "      <th>FastCharge_KmH</th>\n",
       "      <th>RapidCharge</th>\n",
       "      <th>PowerTrain</th>\n",
       "      <th>PlugType</th>\n",
       "      <th>BodyStyle</th>\n",
       "      <th>Segment</th>\n",
       "      <th>Seats</th>\n",
       "      <th>PriceEuro</th>\n",
       "    </tr>\n",
       "  </thead>\n",
       "  <tbody>\n",
       "    <tr>\n",
       "      <th>0</th>\n",
       "      <td>30</td>\n",
       "      <td>46</td>\n",
       "      <td>4.6</td>\n",
       "      <td>233</td>\n",
       "      <td>450</td>\n",
       "      <td>161</td>\n",
       "      <td>940</td>\n",
       "      <td>1</td>\n",
       "      <td>0</td>\n",
       "      <td>3</td>\n",
       "      <td>7</td>\n",
       "      <td>3</td>\n",
       "      <td>5</td>\n",
       "      <td>55480</td>\n",
       "    </tr>\n",
       "    <tr>\n",
       "      <th>1</th>\n",
       "      <td>31</td>\n",
       "      <td>33</td>\n",
       "      <td>10.0</td>\n",
       "      <td>160</td>\n",
       "      <td>270</td>\n",
       "      <td>167</td>\n",
       "      <td>250</td>\n",
       "      <td>1</td>\n",
       "      <td>2</td>\n",
       "      <td>3</td>\n",
       "      <td>1</td>\n",
       "      <td>2</td>\n",
       "      <td>5</td>\n",
       "      <td>30000</td>\n",
       "    </tr>\n",
       "    <tr>\n",
       "      <th>2</th>\n",
       "      <td>23</td>\n",
       "      <td>0</td>\n",
       "      <td>4.7</td>\n",
       "      <td>210</td>\n",
       "      <td>400</td>\n",
       "      <td>181</td>\n",
       "      <td>620</td>\n",
       "      <td>1</td>\n",
       "      <td>0</td>\n",
       "      <td>3</td>\n",
       "      <td>2</td>\n",
       "      <td>3</td>\n",
       "      <td>5</td>\n",
       "      <td>56440</td>\n",
       "    </tr>\n",
       "    <tr>\n",
       "      <th>3</th>\n",
       "      <td>2</td>\n",
       "      <td>101</td>\n",
       "      <td>6.8</td>\n",
       "      <td>180</td>\n",
       "      <td>360</td>\n",
       "      <td>206</td>\n",
       "      <td>560</td>\n",
       "      <td>1</td>\n",
       "      <td>2</td>\n",
       "      <td>3</td>\n",
       "      <td>6</td>\n",
       "      <td>3</td>\n",
       "      <td>5</td>\n",
       "      <td>68040</td>\n",
       "    </tr>\n",
       "    <tr>\n",
       "      <th>4</th>\n",
       "      <td>9</td>\n",
       "      <td>78</td>\n",
       "      <td>9.5</td>\n",
       "      <td>145</td>\n",
       "      <td>170</td>\n",
       "      <td>168</td>\n",
       "      <td>190</td>\n",
       "      <td>1</td>\n",
       "      <td>2</td>\n",
       "      <td>3</td>\n",
       "      <td>1</td>\n",
       "      <td>1</td>\n",
       "      <td>4</td>\n",
       "      <td>32997</td>\n",
       "    </tr>\n",
       "  </tbody>\n",
       "</table>\n",
       "</div>"
      ],
      "text/plain": [
       "   Brand  Model  AccelSec  TopSpeed_KmH  Range_Km  Efficiency_WhKm  \\\n",
       "0     30     46       4.6           233       450              161   \n",
       "1     31     33      10.0           160       270              167   \n",
       "2     23      0       4.7           210       400              181   \n",
       "3      2    101       6.8           180       360              206   \n",
       "4      9     78       9.5           145       170              168   \n",
       "\n",
       "  FastCharge_KmH  RapidCharge  PowerTrain  PlugType  BodyStyle  Segment  \\\n",
       "0            940            1           0         3          7        3   \n",
       "1            250            1           2         3          1        2   \n",
       "2            620            1           0         3          2        3   \n",
       "3            560            1           2         3          6        3   \n",
       "4            190            1           2         3          1        1   \n",
       "\n",
       "   Seats  PriceEuro  \n",
       "0      5      55480  \n",
       "1      5      30000  \n",
       "2      5      56440  \n",
       "3      5      68040  \n",
       "4      4      32997  "
      ]
     },
     "execution_count": 49,
     "metadata": {},
     "output_type": "execute_result"
    }
   ],
   "source": [
    "df_copy.head()"
   ]
  },
  {
   "cell_type": "code",
   "execution_count": 62,
   "id": "c0d0f4c5",
   "metadata": {},
   "outputs": [],
   "source": [
    "df_copy['FastCharge_KmH'] = pd.to_numeric(df_copy['FastCharge_KmH'], errors='coerce') \n",
    "df_copy['FastCharge_KmH'].fillna(df_copy['FastCharge_KmH'].mean(), inplace=True)"
   ]
  },
  {
   "cell_type": "code",
   "execution_count": 72,
   "id": "810e718d",
   "metadata": {},
   "outputs": [
    {
     "data": {
      "text/plain": [
       "0"
      ]
     },
     "execution_count": 72,
     "metadata": {},
     "output_type": "execute_result"
    }
   ],
   "source": [
    "df_copy['FastCharge_KmH'].isna().sum()"
   ]
  },
  {
   "cell_type": "code",
   "execution_count": 67,
   "id": "fa7a997f",
   "metadata": {},
   "outputs": [
    {
     "data": {
      "text/plain": [
       "0    940.0\n",
       "1    250.0\n",
       "2    620.0\n",
       "3    560.0\n",
       "4    190.0\n",
       "Name: FastCharge_KmH, dtype: float64"
      ]
     },
     "execution_count": 67,
     "metadata": {},
     "output_type": "execute_result"
    }
   ],
   "source": [
    "df_copy['FastCharge_KmH'].head()"
   ]
  },
  {
   "cell_type": "code",
   "execution_count": 51,
   "id": "b3393b09",
   "metadata": {},
   "outputs": [],
   "source": [
    "##Split the dataset for training and testing in ratio 80:20"
   ]
  },
  {
   "cell_type": "code",
   "execution_count": 53,
   "id": "70822373",
   "metadata": {},
   "outputs": [
    {
     "data": {
      "text/plain": [
       "<seaborn.axisgrid.PairGrid at 0x27978b1ab20>"
      ]
     },
     "execution_count": 53,
     "metadata": {},
     "output_type": "execute_result"
    }
   ],
   "source": [
    "import matplotlib.pyplot as plt\n",
    "import seaborn as sns\n",
    "\n",
    "sns.pairplot(df_copy)"
   ]
  },
  {
   "cell_type": "code",
   "execution_count": 54,
   "id": "e1b5173a",
   "metadata": {},
   "outputs": [],
   "source": [
    "from sklearn.model_selection import train_test_split\n"
   ]
  },
  {
   "cell_type": "code",
   "execution_count": 76,
   "id": "6fac321d",
   "metadata": {},
   "outputs": [],
   "source": [
    "X_train, X_test, Y_train, Y_test = train_test_split( df_copy[df_copy.columns[:-1]],  df_copy['PriceEuro'], test_size=0.2)\n"
   ]
  },
  {
   "cell_type": "code",
   "execution_count": 77,
   "id": "96fff02f",
   "metadata": {},
   "outputs": [],
   "source": [
    "##Initialize the DecisionTreeRegressor model, and use the fit function for training the model.\n",
    "##Add values for the parameters max_depth, min_samples_split, and max_features."
   ]
  },
  {
   "cell_type": "code",
   "execution_count": 148,
   "id": "179a7044",
   "metadata": {},
   "outputs": [],
   "source": [
    "from sklearn.tree import DecisionTreeRegressor\n",
    "\n",
    "regressor = DecisionTreeRegressor(max_depth=3, min_samples_leaf=4, max_features=0.5)\n",
    "regressor.fit(X_train, Y_train)\n",
    "\n",
    "y_pred_dt = regressor.predict(X_test)"
   ]
  },
  {
   "cell_type": "code",
   "execution_count": 149,
   "id": "19c5f02e",
   "metadata": {},
   "outputs": [
    {
     "data": {
      "text/plain": [
       "94     37900\n",
       "96     33133\n",
       "70     41526\n",
       "64     54475\n",
       "86     45000\n",
       "       ...  \n",
       "2      56440\n",
       "50     79445\n",
       "77     22030\n",
       "60     29234\n",
       "5     105000\n",
       "Name: PriceEuro, Length: 82, dtype: int64"
      ]
     },
     "execution_count": 149,
     "metadata": {},
     "output_type": "execute_result"
    }
   ],
   "source": [
    "Y_train"
   ]
  },
  {
   "cell_type": "code",
   "execution_count": 150,
   "id": "a5c2eed5",
   "metadata": {},
   "outputs": [],
   "source": [
    "from sklearn import metrics\n"
   ]
  },
  {
   "cell_type": "code",
   "execution_count": 151,
   "id": "683ddc51",
   "metadata": {},
   "outputs": [
    {
     "name": "stdout",
     "output_type": "stream",
     "text": [
      "Accuracy: 0.7250763962771882\n"
     ]
    }
   ],
   "source": [
    "print(\"Accuracy:\",regressor.score(X_test, Y_test))"
   ]
  },
  {
   "cell_type": "code",
   "execution_count": 105,
   "id": "1a88735c",
   "metadata": {},
   "outputs": [],
   "source": [
    "##Initialize the XGBRegressor model, and use the fit function\n"
   ]
  },
  {
   "cell_type": "code",
   "execution_count": 125,
   "id": "992ec8a0",
   "metadata": {},
   "outputs": [],
   "source": [
    "from xgboost import XGBRegressor\n",
    "\n",
    "model = XGBRegressor(objective ='reg:squarederror',colsample_bytree=0.3,learning_rate=0.1,max_depth=5,alpha=2,n_estimators=10)\n",
    "model.fit(X_train, Y_train)\n",
    "\n",
    "y_pred_xgb = model.predict(X_test)"
   ]
  },
  {
   "cell_type": "code",
   "execution_count": 126,
   "id": "e43e5108",
   "metadata": {},
   "outputs": [
    {
     "name": "stdout",
     "output_type": "stream",
     "text": [
      "Mean Absolute Error : 22671.905133928572\n",
      "Mean Squared Error : 1766287539.6320481\n",
      "Root Mean Squared Error : 42027.223791633536\n"
     ]
    }
   ],
   "source": [
    "from sklearn.metrics import mean_squared_error, mean_absolute_error\n",
    "\n",
    "print(\"Mean Absolute Error : \" + str(mean_absolute_error(y_pred_xgb, Y_test)))\n",
    "print(\"Mean Squared Error : \" + str(mean_squared_error(y_pred_xgb, Y_test)))\n",
    "print(\"Root Mean Squared Error : \" + str(np.sqrt(mean_squared_error(y_pred_xgb, Y_test))))"
   ]
  },
  {
   "cell_type": "code",
   "execution_count": 152,
   "id": "8d7c52c4",
   "metadata": {},
   "outputs": [
    {
     "name": "stdout",
     "output_type": "stream",
     "text": [
      "Mean Absolute Error : 13093.350396825397\n",
      "Mean Squared Error : 720119314.8002216\n",
      "Root Mean Squared Error : 26835.038937930043\n"
     ]
    }
   ],
   "source": [
    "print(\"Mean Absolute Error : \" + str(mean_absolute_error(y_pred_dt, Y_test)))\n",
    "print(\"Mean Squared Error : \" + str(mean_squared_error(y_pred_dt, Y_test)))\n",
    "print(\"Root Mean Squared Error : \" + str(np.sqrt(mean_squared_error(y_pred_dt, Y_test))))"
   ]
  },
  {
   "cell_type": "code",
   "execution_count": null,
   "id": "184688f1",
   "metadata": {},
   "outputs": [],
   "source": []
  }
 ],
 "metadata": {
  "kernelspec": {
   "display_name": "Python 3 (ipykernel)",
   "language": "python",
   "name": "python3"
  },
  "language_info": {
   "codemirror_mode": {
    "name": "ipython",
    "version": 3
   },
   "file_extension": ".py",
   "mimetype": "text/x-python",
   "name": "python",
   "nbconvert_exporter": "python",
   "pygments_lexer": "ipython3",
   "version": "3.9.13"
  }
 },
 "nbformat": 4,
 "nbformat_minor": 5
}

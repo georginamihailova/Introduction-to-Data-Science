{
  "nbformat": 4,
  "nbformat_minor": 0,
  "metadata": {
    "colab": {
      "provenance": [],
      "include_colab_link": true
    },
    "kernelspec": {
      "name": "python3",
      "display_name": "Python 3"
    },
    "language_info": {
      "name": "python"
    }
  },
  "cells": [
    {
      "cell_type": "markdown",
      "metadata": {
        "id": "view-in-github",
        "colab_type": "text"
      },
      "source": [
        "<a href=\"https://colab.research.google.com/github/georginamihailova/Introduction-to-Data-Science/blob/main/Lab_4.ipynb\" target=\"_parent\"><img src=\"https://colab.research.google.com/assets/colab-badge.svg\" alt=\"Open In Colab\"/></a>"
      ]
    },
    {
      "cell_type": "markdown",
      "source": [
        "# Neural Networks"
      ],
      "metadata": {
        "id": "v8vsWahSyK_i"
      }
    },
    {
      "cell_type": "markdown",
      "source": [
        "## Building the Neural Networks"
      ],
      "metadata": {
        "id": "G4FVV4npyYwk"
      }
    },
    {
      "cell_type": "markdown",
      "source": [
        "Use the following dataset https://www.kaggle.com/datasets/anmolkumar/health-insurance-cross-sell-prediction?select=train.csv to build three different neural networks using\n",
        "\n",
        "> different layers\n",
        "\n",
        "\n",
        "> activation functions\n",
        "\n",
        "\n",
        "> number of neurons per layer\n",
        "\n",
        "\n",
        "> number of layers\n",
        "\n",
        "\n",
        "\n",
        "\n",
        "\n",
        "\n",
        "\n",
        "\n",
        "\n"
      ],
      "metadata": {
        "id": "oY3xhC9YZsO8"
      }
    },
    {
      "cell_type": "code",
      "source": [
        "from google.colab import drive\n",
        "drive.mount('/content/drive')"
      ],
      "metadata": {
        "colab": {
          "base_uri": "https://localhost:8080/"
        },
        "id": "4QDoUasmt3eb",
        "outputId": "bd1db463-d49b-41c8-e5bf-fc39bdb53ecb"
      },
      "execution_count": null,
      "outputs": [
        {
          "output_type": "stream",
          "name": "stdout",
          "text": [
            "Mounted at /content/drive\n"
          ]
        }
      ]
    },
    {
      "cell_type": "markdown",
      "source": [
        "### Data pre-processing"
      ],
      "metadata": {
        "id": "MOJGKW_9auD4"
      }
    },
    {
      "cell_type": "code",
      "source": [
        "import pandas as pd\n"
      ],
      "metadata": {
        "id": "UR3dEMr-atq7"
      },
      "execution_count": null,
      "outputs": []
    },
    {
      "cell_type": "code",
      "source": [
        "data = pd.read_csv('/content/drive/MyDrive/vnp_exercises/laboratoriski/datasets/health_insurance.csv')"
      ],
      "metadata": {
        "id": "SJdLHcvguWEL"
      },
      "execution_count": null,
      "outputs": []
    },
    {
      "cell_type": "code",
      "source": [
        "data.head()"
      ],
      "metadata": {
        "colab": {
          "base_uri": "https://localhost:8080/",
          "height": 226
        },
        "id": "pHpVQbBOv5gx",
        "outputId": "8a7c398e-ee6f-4462-8c08-0686f7b68266"
      },
      "execution_count": null,
      "outputs": [
        {
          "output_type": "execute_result",
          "data": {
            "text/plain": [
              "   id  Gender  Age  Driving_License  Region_Code  Previously_Insured  \\\n",
              "0   1    Male   44                1         28.0                   0   \n",
              "1   2    Male   76                1          3.0                   0   \n",
              "2   3    Male   47                1         28.0                   0   \n",
              "3   4    Male   21                1         11.0                   1   \n",
              "4   5  Female   29                1         41.0                   1   \n",
              "\n",
              "  Vehicle_Age Vehicle_Damage  Annual_Premium  Policy_Sales_Channel  Vintage  \\\n",
              "0   > 2 Years            Yes         40454.0                  26.0      217   \n",
              "1    1-2 Year             No         33536.0                  26.0      183   \n",
              "2   > 2 Years            Yes         38294.0                  26.0       27   \n",
              "3    < 1 Year             No         28619.0                 152.0      203   \n",
              "4    < 1 Year             No         27496.0                 152.0       39   \n",
              "\n",
              "   Response  \n",
              "0         1  \n",
              "1         0  \n",
              "2         1  \n",
              "3         0  \n",
              "4         0  "
            ],
            "text/html": [
              "\n",
              "  <div id=\"df-e81e6a2b-5152-478d-97af-89497ba2025c\" class=\"colab-df-container\">\n",
              "    <div>\n",
              "<style scoped>\n",
              "    .dataframe tbody tr th:only-of-type {\n",
              "        vertical-align: middle;\n",
              "    }\n",
              "\n",
              "    .dataframe tbody tr th {\n",
              "        vertical-align: top;\n",
              "    }\n",
              "\n",
              "    .dataframe thead th {\n",
              "        text-align: right;\n",
              "    }\n",
              "</style>\n",
              "<table border=\"1\" class=\"dataframe\">\n",
              "  <thead>\n",
              "    <tr style=\"text-align: right;\">\n",
              "      <th></th>\n",
              "      <th>id</th>\n",
              "      <th>Gender</th>\n",
              "      <th>Age</th>\n",
              "      <th>Driving_License</th>\n",
              "      <th>Region_Code</th>\n",
              "      <th>Previously_Insured</th>\n",
              "      <th>Vehicle_Age</th>\n",
              "      <th>Vehicle_Damage</th>\n",
              "      <th>Annual_Premium</th>\n",
              "      <th>Policy_Sales_Channel</th>\n",
              "      <th>Vintage</th>\n",
              "      <th>Response</th>\n",
              "    </tr>\n",
              "  </thead>\n",
              "  <tbody>\n",
              "    <tr>\n",
              "      <th>0</th>\n",
              "      <td>1</td>\n",
              "      <td>Male</td>\n",
              "      <td>44</td>\n",
              "      <td>1</td>\n",
              "      <td>28.0</td>\n",
              "      <td>0</td>\n",
              "      <td>&gt; 2 Years</td>\n",
              "      <td>Yes</td>\n",
              "      <td>40454.0</td>\n",
              "      <td>26.0</td>\n",
              "      <td>217</td>\n",
              "      <td>1</td>\n",
              "    </tr>\n",
              "    <tr>\n",
              "      <th>1</th>\n",
              "      <td>2</td>\n",
              "      <td>Male</td>\n",
              "      <td>76</td>\n",
              "      <td>1</td>\n",
              "      <td>3.0</td>\n",
              "      <td>0</td>\n",
              "      <td>1-2 Year</td>\n",
              "      <td>No</td>\n",
              "      <td>33536.0</td>\n",
              "      <td>26.0</td>\n",
              "      <td>183</td>\n",
              "      <td>0</td>\n",
              "    </tr>\n",
              "    <tr>\n",
              "      <th>2</th>\n",
              "      <td>3</td>\n",
              "      <td>Male</td>\n",
              "      <td>47</td>\n",
              "      <td>1</td>\n",
              "      <td>28.0</td>\n",
              "      <td>0</td>\n",
              "      <td>&gt; 2 Years</td>\n",
              "      <td>Yes</td>\n",
              "      <td>38294.0</td>\n",
              "      <td>26.0</td>\n",
              "      <td>27</td>\n",
              "      <td>1</td>\n",
              "    </tr>\n",
              "    <tr>\n",
              "      <th>3</th>\n",
              "      <td>4</td>\n",
              "      <td>Male</td>\n",
              "      <td>21</td>\n",
              "      <td>1</td>\n",
              "      <td>11.0</td>\n",
              "      <td>1</td>\n",
              "      <td>&lt; 1 Year</td>\n",
              "      <td>No</td>\n",
              "      <td>28619.0</td>\n",
              "      <td>152.0</td>\n",
              "      <td>203</td>\n",
              "      <td>0</td>\n",
              "    </tr>\n",
              "    <tr>\n",
              "      <th>4</th>\n",
              "      <td>5</td>\n",
              "      <td>Female</td>\n",
              "      <td>29</td>\n",
              "      <td>1</td>\n",
              "      <td>41.0</td>\n",
              "      <td>1</td>\n",
              "      <td>&lt; 1 Year</td>\n",
              "      <td>No</td>\n",
              "      <td>27496.0</td>\n",
              "      <td>152.0</td>\n",
              "      <td>39</td>\n",
              "      <td>0</td>\n",
              "    </tr>\n",
              "  </tbody>\n",
              "</table>\n",
              "</div>\n",
              "    <div class=\"colab-df-buttons\">\n",
              "\n",
              "  <div class=\"colab-df-container\">\n",
              "    <button class=\"colab-df-convert\" onclick=\"convertToInteractive('df-e81e6a2b-5152-478d-97af-89497ba2025c')\"\n",
              "            title=\"Convert this dataframe to an interactive table.\"\n",
              "            style=\"display:none;\">\n",
              "\n",
              "  <svg xmlns=\"http://www.w3.org/2000/svg\" height=\"24px\" viewBox=\"0 -960 960 960\">\n",
              "    <path d=\"M120-120v-720h720v720H120Zm60-500h600v-160H180v160Zm220 220h160v-160H400v160Zm0 220h160v-160H400v160ZM180-400h160v-160H180v160Zm440 0h160v-160H620v160ZM180-180h160v-160H180v160Zm440 0h160v-160H620v160Z\"/>\n",
              "  </svg>\n",
              "    </button>\n",
              "\n",
              "  <style>\n",
              "    .colab-df-container {\n",
              "      display:flex;\n",
              "      gap: 12px;\n",
              "    }\n",
              "\n",
              "    .colab-df-convert {\n",
              "      background-color: #E8F0FE;\n",
              "      border: none;\n",
              "      border-radius: 50%;\n",
              "      cursor: pointer;\n",
              "      display: none;\n",
              "      fill: #1967D2;\n",
              "      height: 32px;\n",
              "      padding: 0 0 0 0;\n",
              "      width: 32px;\n",
              "    }\n",
              "\n",
              "    .colab-df-convert:hover {\n",
              "      background-color: #E2EBFA;\n",
              "      box-shadow: 0px 1px 2px rgba(60, 64, 67, 0.3), 0px 1px 3px 1px rgba(60, 64, 67, 0.15);\n",
              "      fill: #174EA6;\n",
              "    }\n",
              "\n",
              "    .colab-df-buttons div {\n",
              "      margin-bottom: 4px;\n",
              "    }\n",
              "\n",
              "    [theme=dark] .colab-df-convert {\n",
              "      background-color: #3B4455;\n",
              "      fill: #D2E3FC;\n",
              "    }\n",
              "\n",
              "    [theme=dark] .colab-df-convert:hover {\n",
              "      background-color: #434B5C;\n",
              "      box-shadow: 0px 1px 3px 1px rgba(0, 0, 0, 0.15);\n",
              "      filter: drop-shadow(0px 1px 2px rgba(0, 0, 0, 0.3));\n",
              "      fill: #FFFFFF;\n",
              "    }\n",
              "  </style>\n",
              "\n",
              "    <script>\n",
              "      const buttonEl =\n",
              "        document.querySelector('#df-e81e6a2b-5152-478d-97af-89497ba2025c button.colab-df-convert');\n",
              "      buttonEl.style.display =\n",
              "        google.colab.kernel.accessAllowed ? 'block' : 'none';\n",
              "\n",
              "      async function convertToInteractive(key) {\n",
              "        const element = document.querySelector('#df-e81e6a2b-5152-478d-97af-89497ba2025c');\n",
              "        const dataTable =\n",
              "          await google.colab.kernel.invokeFunction('convertToInteractive',\n",
              "                                                    [key], {});\n",
              "        if (!dataTable) return;\n",
              "\n",
              "        const docLinkHtml = 'Like what you see? Visit the ' +\n",
              "          '<a target=\"_blank\" href=https://colab.research.google.com/notebooks/data_table.ipynb>data table notebook</a>'\n",
              "          + ' to learn more about interactive tables.';\n",
              "        element.innerHTML = '';\n",
              "        dataTable['output_type'] = 'display_data';\n",
              "        await google.colab.output.renderOutput(dataTable, element);\n",
              "        const docLink = document.createElement('div');\n",
              "        docLink.innerHTML = docLinkHtml;\n",
              "        element.appendChild(docLink);\n",
              "      }\n",
              "    </script>\n",
              "  </div>\n",
              "\n",
              "\n",
              "<div id=\"df-e04138c4-680c-492b-bce7-5d477a83e4e8\">\n",
              "  <button class=\"colab-df-quickchart\" onclick=\"quickchart('df-e04138c4-680c-492b-bce7-5d477a83e4e8')\"\n",
              "            title=\"Suggest charts\"\n",
              "            style=\"display:none;\">\n",
              "\n",
              "<svg xmlns=\"http://www.w3.org/2000/svg\" height=\"24px\"viewBox=\"0 0 24 24\"\n",
              "     width=\"24px\">\n",
              "    <g>\n",
              "        <path d=\"M19 3H5c-1.1 0-2 .9-2 2v14c0 1.1.9 2 2 2h14c1.1 0 2-.9 2-2V5c0-1.1-.9-2-2-2zM9 17H7v-7h2v7zm4 0h-2V7h2v10zm4 0h-2v-4h2v4z\"/>\n",
              "    </g>\n",
              "</svg>\n",
              "  </button>\n",
              "\n",
              "<style>\n",
              "  .colab-df-quickchart {\n",
              "      --bg-color: #E8F0FE;\n",
              "      --fill-color: #1967D2;\n",
              "      --hover-bg-color: #E2EBFA;\n",
              "      --hover-fill-color: #174EA6;\n",
              "      --disabled-fill-color: #AAA;\n",
              "      --disabled-bg-color: #DDD;\n",
              "  }\n",
              "\n",
              "  [theme=dark] .colab-df-quickchart {\n",
              "      --bg-color: #3B4455;\n",
              "      --fill-color: #D2E3FC;\n",
              "      --hover-bg-color: #434B5C;\n",
              "      --hover-fill-color: #FFFFFF;\n",
              "      --disabled-bg-color: #3B4455;\n",
              "      --disabled-fill-color: #666;\n",
              "  }\n",
              "\n",
              "  .colab-df-quickchart {\n",
              "    background-color: var(--bg-color);\n",
              "    border: none;\n",
              "    border-radius: 50%;\n",
              "    cursor: pointer;\n",
              "    display: none;\n",
              "    fill: var(--fill-color);\n",
              "    height: 32px;\n",
              "    padding: 0;\n",
              "    width: 32px;\n",
              "  }\n",
              "\n",
              "  .colab-df-quickchart:hover {\n",
              "    background-color: var(--hover-bg-color);\n",
              "    box-shadow: 0 1px 2px rgba(60, 64, 67, 0.3), 0 1px 3px 1px rgba(60, 64, 67, 0.15);\n",
              "    fill: var(--button-hover-fill-color);\n",
              "  }\n",
              "\n",
              "  .colab-df-quickchart-complete:disabled,\n",
              "  .colab-df-quickchart-complete:disabled:hover {\n",
              "    background-color: var(--disabled-bg-color);\n",
              "    fill: var(--disabled-fill-color);\n",
              "    box-shadow: none;\n",
              "  }\n",
              "\n",
              "  .colab-df-spinner {\n",
              "    border: 2px solid var(--fill-color);\n",
              "    border-color: transparent;\n",
              "    border-bottom-color: var(--fill-color);\n",
              "    animation:\n",
              "      spin 1s steps(1) infinite;\n",
              "  }\n",
              "\n",
              "  @keyframes spin {\n",
              "    0% {\n",
              "      border-color: transparent;\n",
              "      border-bottom-color: var(--fill-color);\n",
              "      border-left-color: var(--fill-color);\n",
              "    }\n",
              "    20% {\n",
              "      border-color: transparent;\n",
              "      border-left-color: var(--fill-color);\n",
              "      border-top-color: var(--fill-color);\n",
              "    }\n",
              "    30% {\n",
              "      border-color: transparent;\n",
              "      border-left-color: var(--fill-color);\n",
              "      border-top-color: var(--fill-color);\n",
              "      border-right-color: var(--fill-color);\n",
              "    }\n",
              "    40% {\n",
              "      border-color: transparent;\n",
              "      border-right-color: var(--fill-color);\n",
              "      border-top-color: var(--fill-color);\n",
              "    }\n",
              "    60% {\n",
              "      border-color: transparent;\n",
              "      border-right-color: var(--fill-color);\n",
              "    }\n",
              "    80% {\n",
              "      border-color: transparent;\n",
              "      border-right-color: var(--fill-color);\n",
              "      border-bottom-color: var(--fill-color);\n",
              "    }\n",
              "    90% {\n",
              "      border-color: transparent;\n",
              "      border-bottom-color: var(--fill-color);\n",
              "    }\n",
              "  }\n",
              "</style>\n",
              "\n",
              "  <script>\n",
              "    async function quickchart(key) {\n",
              "      const quickchartButtonEl =\n",
              "        document.querySelector('#' + key + ' button');\n",
              "      quickchartButtonEl.disabled = true;  // To prevent multiple clicks.\n",
              "      quickchartButtonEl.classList.add('colab-df-spinner');\n",
              "      try {\n",
              "        const charts = await google.colab.kernel.invokeFunction(\n",
              "            'suggestCharts', [key], {});\n",
              "      } catch (error) {\n",
              "        console.error('Error during call to suggestCharts:', error);\n",
              "      }\n",
              "      quickchartButtonEl.classList.remove('colab-df-spinner');\n",
              "      quickchartButtonEl.classList.add('colab-df-quickchart-complete');\n",
              "    }\n",
              "    (() => {\n",
              "      let quickchartButtonEl =\n",
              "        document.querySelector('#df-e04138c4-680c-492b-bce7-5d477a83e4e8 button');\n",
              "      quickchartButtonEl.style.display =\n",
              "        google.colab.kernel.accessAllowed ? 'block' : 'none';\n",
              "    })();\n",
              "  </script>\n",
              "</div>\n",
              "    </div>\n",
              "  </div>\n"
            ]
          },
          "metadata": {},
          "execution_count": 62
        }
      ]
    },
    {
      "cell_type": "code",
      "source": [
        "data.isnull().sum()"
      ],
      "metadata": {
        "colab": {
          "base_uri": "https://localhost:8080/"
        },
        "id": "sMGJmFsEv8Fb",
        "outputId": "d6287aa5-9ecc-4fd6-c339-a0975c358780"
      },
      "execution_count": null,
      "outputs": [
        {
          "output_type": "execute_result",
          "data": {
            "text/plain": [
              "id                      0\n",
              "Gender                  0\n",
              "Age                     0\n",
              "Driving_License         0\n",
              "Region_Code             0\n",
              "Previously_Insured      0\n",
              "Vehicle_Age             0\n",
              "Vehicle_Damage          0\n",
              "Annual_Premium          0\n",
              "Policy_Sales_Channel    0\n",
              "Vintage                 0\n",
              "Response                0\n",
              "dtype: int64"
            ]
          },
          "metadata": {},
          "execution_count": 63
        }
      ]
    },
    {
      "cell_type": "code",
      "source": [
        "data = data.drop('id',axis = 1)"
      ],
      "metadata": {
        "id": "ZdR9QZEq0VAG"
      },
      "execution_count": null,
      "outputs": []
    },
    {
      "cell_type": "code",
      "source": [
        "from sklearn.preprocessing import LabelEncoder\n",
        "encoder = LabelEncoder()\n",
        "data['Gender'] = encoder.fit_transform(data['Gender'])"
      ],
      "metadata": {
        "id": "zbyixezwwI8V"
      },
      "execution_count": null,
      "outputs": []
    },
    {
      "cell_type": "code",
      "source": [
        "data['Vehicle_Age'] = encoder.fit_transform(data['Vehicle_Age'])"
      ],
      "metadata": {
        "id": "iILLrlgiwvRP"
      },
      "execution_count": null,
      "outputs": []
    },
    {
      "cell_type": "code",
      "source": [
        "data['Vehicle_Damage'] = encoder.fit_transform(data['Vehicle_Damage'])"
      ],
      "metadata": {
        "id": "zDJMJbg3zDgw"
      },
      "execution_count": null,
      "outputs": []
    },
    {
      "cell_type": "code",
      "source": [
        "data['Gender'],data['Vehicle_Age'],data['Vehicle_Damage']"
      ],
      "metadata": {
        "colab": {
          "base_uri": "https://localhost:8080/"
        },
        "id": "NtGvcaVqw2Yu",
        "outputId": "d8e2080f-035c-439b-a62f-e828b5c30f18"
      },
      "execution_count": null,
      "outputs": [
        {
          "output_type": "execute_result",
          "data": {
            "text/plain": [
              "(0         1\n",
              " 1         1\n",
              " 2         1\n",
              " 3         1\n",
              " 4         0\n",
              "          ..\n",
              " 381104    1\n",
              " 381105    1\n",
              " 381106    1\n",
              " 381107    0\n",
              " 381108    1\n",
              " Name: Gender, Length: 381109, dtype: int64,\n",
              " 0         2\n",
              " 1         0\n",
              " 2         2\n",
              " 3         1\n",
              " 4         1\n",
              "          ..\n",
              " 381104    0\n",
              " 381105    1\n",
              " 381106    1\n",
              " 381107    2\n",
              " 381108    0\n",
              " Name: Vehicle_Age, Length: 381109, dtype: int64,\n",
              " 0         1\n",
              " 1         0\n",
              " 2         1\n",
              " 3         0\n",
              " 4         0\n",
              "          ..\n",
              " 381104    0\n",
              " 381105    0\n",
              " 381106    0\n",
              " 381107    1\n",
              " 381108    0\n",
              " Name: Vehicle_Damage, Length: 381109, dtype: int64)"
            ]
          },
          "metadata": {},
          "execution_count": 68
        }
      ]
    },
    {
      "cell_type": "code",
      "source": [
        "import seaborn as sns\n",
        "import matplotlib.pyplot as plt\n",
        "%matplotlib inline\n",
        "\n",
        "\n",
        "\n",
        "plt.figure(figsize=(10,10))\n",
        "sns.heatmap(data.corr(),annot=True,cmap='hsv',fmt='.3f',linewidths=2)\n",
        "plt.show()"
      ],
      "metadata": {
        "colab": {
          "base_uri": "https://localhost:8080/",
          "height": 672
        },
        "id": "l--hEJEOxDyq",
        "outputId": "5205b470-3d24-4601-d492-19414e16b8c6"
      },
      "execution_count": null,
      "outputs": [
        {
          "output_type": "display_data",
          "data": {
            "text/plain": [
              "<Figure size 1000x1000 with 2 Axes>"
            ],
            "image/png": "[encoded data removed]"
          },
          "metadata": {}
        }
      ]
    },
    {
      "cell_type": "code",
      "source": [
        "from sklearn.model_selection import train_test_split\n",
        "\n",
        "X = data.drop(['Response'], axis = 1)\n",
        "y = data.Response.values\n",
        "X_train, X_test, Y_train, Y_test = train_test_split(X, y, test_size = 0.2, random_state = 0)"
      ],
      "metadata": {
        "id": "_fZtwpH0yb2T"
      },
      "execution_count": null,
      "outputs": []
    },
    {
      "cell_type": "code",
      "source": [
        "X_train.shape"
      ],
      "metadata": {
        "colab": {
          "base_uri": "https://localhost:8080/"
        },
        "id": "5LX-UPqhyuB5",
        "outputId": "7713d812-733e-414f-8351-1b46024dcd5d"
      },
      "execution_count": null,
      "outputs": [
        {
          "output_type": "execute_result",
          "data": {
            "text/plain": [
              "(304887, 10)"
            ]
          },
          "metadata": {},
          "execution_count": 71
        }
      ]
    },
    {
      "cell_type": "code",
      "source": [
        "y"
      ],
      "metadata": {
        "colab": {
          "base_uri": "https://localhost:8080/"
        },
        "id": "dnT6SDxuyza9",
        "outputId": "91b7ce9e-2cf6-4571-876b-518af6794151"
      },
      "execution_count": null,
      "outputs": [
        {
          "output_type": "execute_result",
          "data": {
            "text/plain": [
              "array([1, 0, 1, ..., 0, 0, 0])"
            ]
          },
          "metadata": {},
          "execution_count": 72
        }
      ]
    },
    {
      "cell_type": "code",
      "source": [
        "from sklearn.preprocessing import StandardScaler\n",
        "sc = StandardScaler()\n",
        "X_train = sc.fit_transform(X_train)\n",
        "X_test = sc.transform(X_test)"
      ],
      "metadata": {
        "id": "pXtTeOR9y_Sk"
      },
      "execution_count": null,
      "outputs": []
    },
    {
      "cell_type": "markdown",
      "source": [
        "### Neural Network 1"
      ],
      "metadata": {
        "id": "z-cjIbEqaWwN"
      }
    },
    {
      "cell_type": "code",
      "execution_count": null,
      "metadata": {
        "id": "T4RfKWrAZP-8"
      },
      "outputs": [],
      "source": [
        "from keras.models import Sequential\n",
        "from keras.layers import Dense, Dropout"
      ]
    },
    {
      "cell_type": "code",
      "source": [
        "model1 = Sequential()\n",
        "model1.add(Dense(32, input_dim=10, kernel_initializer = 'uniform', activation='relu'))\n",
        "model1.add(Dense(16,kernel_initializer = 'uniform', activation='relu'))\n",
        "model1.add(Dense(16,kernel_initializer = 'uniform', activation='relu'))\n",
        "model1.add(Dense(1, kernel_initializer = 'uniform',activation='sigmoid'))"
      ],
      "metadata": {
        "id": "71M0iXZwzs2w"
      },
      "execution_count": null,
      "outputs": []
    },
    {
      "cell_type": "code",
      "source": [
        "model1.compile(loss='binary_crossentropy', optimizer='adam', metrics=['accuracy'])"
      ],
      "metadata": {
        "id": "3UO-KCL01bbL"
      },
      "execution_count": null,
      "outputs": []
    },
    {
      "cell_type": "markdown",
      "source": [
        "#### Optimize number of epochs and batch size for NN1"
      ],
      "metadata": {
        "id": "DK6xEmhPa5jj"
      }
    },
    {
      "cell_type": "code",
      "source": [
        "history_model1 = model1.fit(X_train, Y_train, epochs=15, batch_size=10, validation_data=(X_test, Y_test))\n"
      ],
      "metadata": {
        "colab": {
          "base_uri": "https://localhost:8080/"
        },
        "id": "bZgq-JKAzpNY",
        "outputId": "f11cbdea-0fb0-4c02-cf6d-5c74f2e97f58"
      },
      "execution_count": null,
      "outputs": [
        {
          "output_type": "stream",
          "name": "stdout",
          "text": [
            "Epoch 1/15\n",
            "30489/30489 [==============================] - 76s 3ms/step - loss: 0.2679 - accuracy: 0.8776 - val_loss: 0.2686 - val_accuracy: 0.8769\n",
            "Epoch 2/15\n",
            "30489/30489 [==============================] - 75s 2ms/step - loss: 0.2679 - accuracy: 0.8776 - val_loss: 0.2686 - val_accuracy: 0.8770\n",
            "Epoch 3/15\n",
            "30489/30489 [==============================] - 85s 3ms/step - loss: 0.2679 - accuracy: 0.8776 - val_loss: 0.2681 - val_accuracy: 0.8770\n",
            "Epoch 4/15\n",
            "30489/30489 [==============================] - 88s 3ms/step - loss: 0.2679 - accuracy: 0.8776 - val_loss: 0.2682 - val_accuracy: 0.8770\n",
            "Epoch 5/15\n",
            "30489/30489 [==============================] - 85s 3ms/step - loss: 0.2678 - accuracy: 0.8776 - val_loss: 0.2690 - val_accuracy: 0.8770\n",
            "Epoch 6/15\n",
            "30489/30489 [==============================] - 74s 2ms/step - loss: 0.2678 - accuracy: 0.8776 - val_loss: 0.2684 - val_accuracy: 0.8770\n",
            "Epoch 7/15\n",
            "30489/30489 [==============================] - 75s 2ms/step - loss: 0.2678 - accuracy: 0.8776 - val_loss: 0.2681 - val_accuracy: 0.8770\n",
            "Epoch 8/15\n",
            "30489/30489 [==============================] - 87s 3ms/step - loss: 0.2677 - accuracy: 0.8776 - val_loss: 0.2680 - val_accuracy: 0.8770\n",
            "Epoch 9/15\n",
            "30489/30489 [==============================] - 76s 2ms/step - loss: 0.2677 - accuracy: 0.8776 - val_loss: 0.2697 - val_accuracy: 0.8770\n",
            "Epoch 10/15\n",
            "30489/30489 [==============================] - 81s 3ms/step - loss: 0.2676 - accuracy: 0.8776 - val_loss: 0.2682 - val_accuracy: 0.8770\n",
            "Epoch 11/15\n",
            "30489/30489 [==============================] - 85s 3ms/step - loss: 0.2677 - accuracy: 0.8776 - val_loss: 0.2686 - val_accuracy: 0.8768\n",
            "Epoch 12/15\n",
            "30489/30489 [==============================] - 77s 3ms/step - loss: 0.2678 - accuracy: 0.8776 - val_loss: 0.2680 - val_accuracy: 0.8770\n",
            "Epoch 13/15\n",
            "30489/30489 [==============================] - 85s 3ms/step - loss: 0.2676 - accuracy: 0.8776 - val_loss: 0.2681 - val_accuracy: 0.8770\n",
            "Epoch 14/15\n",
            "30489/30489 [==============================] - 78s 3ms/step - loss: 0.2676 - accuracy: 0.8776 - val_loss: 0.2682 - val_accuracy: 0.8770\n",
            "Epoch 15/15\n",
            "30489/30489 [==============================] - 75s 2ms/step - loss: 0.2676 - accuracy: 0.8776 - val_loss: 0.2686 - val_accuracy: 0.8770\n"
          ]
        }
      ]
    },
    {
      "cell_type": "code",
      "source": [
        "y_pred1 = model1.predict(X_test)"
      ],
      "metadata": {
        "id": "XvheVs3tbB7l",
        "colab": {
          "base_uri": "https://localhost:8080/"
        },
        "outputId": "0456f46a-5abb-4bc9-cac6-4f924f76c851"
      },
      "execution_count": null,
      "outputs": [
        {
          "output_type": "stream",
          "name": "stdout",
          "text": [
            "2382/2382 [==============================] - 4s 2ms/step\n"
          ]
        }
      ]
    },
    {
      "cell_type": "code",
      "source": [
        "y_pred1 = y_pred.round()"
      ],
      "metadata": {
        "id": "sPNILao68KUB"
      },
      "execution_count": null,
      "outputs": []
    },
    {
      "cell_type": "code",
      "source": [
        "y_pred1"
      ],
      "metadata": {
        "colab": {
          "base_uri": "https://localhost:8080/"
        },
        "id": "5HdQxNvm8hh1",
        "outputId": "6fe0ca28-12dc-47d2-db72-2ba256eb6e07"
      },
      "execution_count": null,
      "outputs": [
        {
          "output_type": "execute_result",
          "data": {
            "text/plain": [
              "array([[0.],\n",
              "       [0.],\n",
              "       [0.],\n",
              "       ...,\n",
              "       [0.],\n",
              "       [0.],\n",
              "       [0.]], dtype=float32)"
            ]
          },
          "metadata": {},
          "execution_count": 95
        }
      ]
    },
    {
      "cell_type": "markdown",
      "source": [
        "### Neural Network 2"
      ],
      "metadata": {
        "id": "MpnGuxPpakKZ"
      }
    },
    {
      "cell_type": "code",
      "execution_count": null,
      "metadata": {
        "id": "7h7-_LdCakKa"
      },
      "outputs": [],
      "source": [
        "model2 = Sequential()\n",
        "model2.add(Dense(64, input_dim=10, kernel_initializer='uniform', activation='relu'))\n",
        "model2.add(Dropout(0.5))  # Adding dropout with a dropout rate of 0.5\n",
        "model2.add(Dense(32, kernel_initializer='uniform', activation='relu'))\n",
        "model2.add(Dropout(0.5))  # Adding dropout with a dropout rate of 0.5\n",
        "model2.add(Dense(1, kernel_initializer='uniform', activation='sigmoid'))"
      ]
    },
    {
      "cell_type": "code",
      "source": [
        "model2.compile(loss='binary_crossentropy', optimizer='adam', metrics=['accuracy'])"
      ],
      "metadata": {
        "id": "W9DzsncW89dS"
      },
      "execution_count": null,
      "outputs": []
    },
    {
      "cell_type": "markdown",
      "source": [
        "#### Optimize number of epochs and batch size for NN2"
      ],
      "metadata": {
        "id": "VJZBW-XVbGkJ"
      }
    },
    {
      "cell_type": "code",
      "source": [
        "history_model2 = model2.fit(X_train, Y_train, epochs=20, batch_size=15, validation_data=(X_test, Y_test))\n"
      ],
      "metadata": {
        "id": "j-uAE7KSbGkJ",
        "colab": {
          "base_uri": "https://localhost:8080/"
        },
        "outputId": "94ef9d40-f268-4263-a402-29f91caabc94"
      },
      "execution_count": null,
      "outputs": [
        {
          "output_type": "stream",
          "name": "stdout",
          "text": [
            "Epoch 1/20\n",
            "20326/20326 [==============================] - 51s 2ms/step - loss: 0.2766 - accuracy: 0.8775 - val_loss: 0.2717 - val_accuracy: 0.8770\n",
            "Epoch 2/20\n",
            "20326/20326 [==============================] - 50s 2ms/step - loss: 0.2734 - accuracy: 0.8775 - val_loss: 0.2726 - val_accuracy: 0.8770\n",
            "Epoch 3/20\n",
            "20326/20326 [==============================] - 54s 3ms/step - loss: 0.2732 - accuracy: 0.8775 - val_loss: 0.2703 - val_accuracy: 0.8770\n",
            "Epoch 4/20\n",
            "20326/20326 [==============================] - 53s 3ms/step - loss: 0.2730 - accuracy: 0.8775 - val_loss: 0.2707 - val_accuracy: 0.8770\n",
            "Epoch 5/20\n",
            "20326/20326 [==============================] - 54s 3ms/step - loss: 0.2735 - accuracy: 0.8775 - val_loss: 0.2702 - val_accuracy: 0.8770\n",
            "Epoch 6/20\n",
            "20326/20326 [==============================] - 50s 2ms/step - loss: 0.2734 - accuracy: 0.8775 - val_loss: 0.2705 - val_accuracy: 0.8770\n",
            "Epoch 7/20\n",
            "20326/20326 [==============================] - 50s 2ms/step - loss: 0.2733 - accuracy: 0.8775 - val_loss: 0.2704 - val_accuracy: 0.8770\n",
            "Epoch 8/20\n",
            "20326/20326 [==============================] - 54s 3ms/step - loss: 0.2730 - accuracy: 0.8775 - val_loss: 0.2708 - val_accuracy: 0.8770\n",
            "Epoch 9/20\n",
            "20326/20326 [==============================] - 50s 2ms/step - loss: 0.2733 - accuracy: 0.8775 - val_loss: 0.2699 - val_accuracy: 0.8770\n",
            "Epoch 10/20\n",
            "20326/20326 [==============================] - 51s 2ms/step - loss: 0.2736 - accuracy: 0.8775 - val_loss: 0.2711 - val_accuracy: 0.8770\n",
            "Epoch 11/20\n",
            "20326/20326 [==============================] - 50s 2ms/step - loss: 0.2733 - accuracy: 0.8775 - val_loss: 0.2717 - val_accuracy: 0.8770\n",
            "Epoch 12/20\n",
            "20326/20326 [==============================] - 57s 3ms/step - loss: 0.2735 - accuracy: 0.8775 - val_loss: 0.2701 - val_accuracy: 0.8770\n",
            "Epoch 13/20\n",
            "20326/20326 [==============================] - 50s 2ms/step - loss: 0.2734 - accuracy: 0.8775 - val_loss: 0.2701 - val_accuracy: 0.8770\n",
            "Epoch 14/20\n",
            "20326/20326 [==============================] - 50s 2ms/step - loss: 0.2735 - accuracy: 0.8775 - val_loss: 0.2706 - val_accuracy: 0.8770\n",
            "Epoch 15/20\n",
            "20326/20326 [==============================] - 52s 3ms/step - loss: 0.2736 - accuracy: 0.8775 - val_loss: 0.2702 - val_accuracy: 0.8770\n",
            "Epoch 16/20\n",
            "20326/20326 [==============================] - 55s 3ms/step - loss: 0.2736 - accuracy: 0.8775 - val_loss: 0.2705 - val_accuracy: 0.8770\n",
            "Epoch 17/20\n",
            "20326/20326 [==============================] - 52s 3ms/step - loss: 0.2738 - accuracy: 0.8775 - val_loss: 0.2699 - val_accuracy: 0.8770\n",
            "Epoch 18/20\n",
            "20326/20326 [==============================] - 58s 3ms/step - loss: 0.2736 - accuracy: 0.8775 - val_loss: 0.2706 - val_accuracy: 0.8770\n",
            "Epoch 19/20\n",
            "20326/20326 [==============================] - 54s 3ms/step - loss: 0.2737 - accuracy: 0.8775 - val_loss: 0.2714 - val_accuracy: 0.8770\n",
            "Epoch 20/20\n",
            "20326/20326 [==============================] - 51s 3ms/step - loss: 0.2738 - accuracy: 0.8775 - val_loss: 0.2750 - val_accuracy: 0.8770\n"
          ]
        }
      ]
    },
    {
      "cell_type": "code",
      "source": [
        "y_pred2 = model2.predict(X_test)"
      ],
      "metadata": {
        "colab": {
          "base_uri": "https://localhost:8080/"
        },
        "id": "Xhq0opWrGvkj",
        "outputId": "57496f79-7f7d-4872-bc9d-b98c2747a4bc"
      },
      "execution_count": null,
      "outputs": [
        {
          "output_type": "stream",
          "name": "stdout",
          "text": [
            "2382/2382 [==============================] - 15s 6ms/step\n"
          ]
        }
      ]
    },
    {
      "cell_type": "code",
      "source": [
        "y_pred2 = y_pred2.round()"
      ],
      "metadata": {
        "id": "gq1ZcB7jGwHt"
      },
      "execution_count": null,
      "outputs": []
    },
    {
      "cell_type": "code",
      "source": [
        "y_pred2"
      ],
      "metadata": {
        "colab": {
          "base_uri": "https://localhost:8080/"
        },
        "id": "Gb_-qN30G1Hk",
        "outputId": "17fcc5f7-00e8-4102-a348-4f265feb6341"
      },
      "execution_count": null,
      "outputs": [
        {
          "output_type": "execute_result",
          "data": {
            "text/plain": [
              "array([[0.],\n",
              "       [0.],\n",
              "       [0.],\n",
              "       ...,\n",
              "       [0.],\n",
              "       [0.],\n",
              "       [0.]], dtype=float32)"
            ]
          },
          "metadata": {},
          "execution_count": 101
        }
      ]
    },
    {
      "cell_type": "markdown",
      "source": [
        "### Neural Network 3"
      ],
      "metadata": {
        "id": "vo0qlaMNakWQ"
      }
    },
    {
      "cell_type": "code",
      "execution_count": null,
      "metadata": {
        "id": "MUZ1-qNSakWQ"
      },
      "outputs": [],
      "source": [
        "model3 = Sequential()\n",
        "model3.add(Dense(128, input_dim=10, kernel_initializer='he_normal', activation='elu'))\n",
        "model3.add(Dense(64, kernel_initializer='he_normal', activation='elu'))\n",
        "model3.add(Dense(32, kernel_initializer='he_normal', activation='elu'))\n",
        "model3.add(Dense(1, kernel_initializer='he_normal', activation='sigmoid'))"
      ]
    },
    {
      "cell_type": "code",
      "source": [
        "model3.compile(loss='binary_crossentropy', optimizer='adam', metrics=['accuracy'])"
      ],
      "metadata": {
        "id": "9es0cv7_HCbr"
      },
      "execution_count": null,
      "outputs": []
    },
    {
      "cell_type": "markdown",
      "source": [
        "#### Optimize number of epochs and batch size for NN3"
      ],
      "metadata": {
        "id": "bN5SEHuSbJUR"
      }
    },
    {
      "cell_type": "code",
      "source": [
        "history_model3 = model3.fit(X_train, Y_train, epochs=25, batch_size=15, validation_data=(X_test, Y_test))\n"
      ],
      "metadata": {
        "id": "VD2UF-8AbJUS",
        "colab": {
          "base_uri": "https://localhost:8080/"
        },
        "outputId": "622a133a-6bbf-4dc2-f2a1-8690b0b23d2c"
      },
      "execution_count": null,
      "outputs": [
        {
          "output_type": "stream",
          "name": "stdout",
          "text": [
            "Epoch 1/25\n",
            "20326/20326 [==============================] - 62s 3ms/step - loss: 0.2713 - accuracy: 0.8774 - val_loss: 0.2722 - val_accuracy: 0.8770\n",
            "Epoch 2/25\n",
            "20326/20326 [==============================] - 54s 3ms/step - loss: 0.2702 - accuracy: 0.8775 - val_loss: 0.2734 - val_accuracy: 0.8693\n",
            "Epoch 3/25\n",
            "20326/20326 [==============================] - 58s 3ms/step - loss: 0.2698 - accuracy: 0.8774 - val_loss: 0.2719 - val_accuracy: 0.8770\n",
            "Epoch 4/25\n",
            "20326/20326 [==============================] - 56s 3ms/step - loss: 0.2697 - accuracy: 0.8772 - val_loss: 0.2691 - val_accuracy: 0.8769\n",
            "Epoch 5/25\n",
            "20326/20326 [==============================] - 55s 3ms/step - loss: 0.2694 - accuracy: 0.8772 - val_loss: 0.2708 - val_accuracy: 0.8770\n",
            "Epoch 6/25\n",
            "20326/20326 [==============================] - 57s 3ms/step - loss: 0.2692 - accuracy: 0.8773 - val_loss: 0.2694 - val_accuracy: 0.8756\n",
            "Epoch 7/25\n",
            "20326/20326 [==============================] - 60s 3ms/step - loss: 0.2692 - accuracy: 0.8773 - val_loss: 0.2695 - val_accuracy: 0.8770\n",
            "Epoch 8/25\n",
            "20326/20326 [==============================] - 57s 3ms/step - loss: 0.2691 - accuracy: 0.8773 - val_loss: 0.2692 - val_accuracy: 0.8768\n",
            "Epoch 9/25\n",
            "20326/20326 [==============================] - 53s 3ms/step - loss: 0.2690 - accuracy: 0.8773 - val_loss: 0.2695 - val_accuracy: 0.8765\n",
            "Epoch 10/25\n",
            "20326/20326 [==============================] - 55s 3ms/step - loss: 0.2690 - accuracy: 0.8775 - val_loss: 0.2688 - val_accuracy: 0.8768\n",
            "Epoch 11/25\n",
            "20326/20326 [==============================] - 54s 3ms/step - loss: 0.2690 - accuracy: 0.8774 - val_loss: 0.2684 - val_accuracy: 0.8770\n",
            "Epoch 12/25\n",
            "20326/20326 [==============================] - 58s 3ms/step - loss: 0.2688 - accuracy: 0.8772 - val_loss: 0.2691 - val_accuracy: 0.8770\n",
            "Epoch 13/25\n",
            "20326/20326 [==============================] - 58s 3ms/step - loss: 0.2688 - accuracy: 0.8773 - val_loss: 0.2698 - val_accuracy: 0.8770\n",
            "Epoch 14/25\n",
            "20326/20326 [==============================] - 55s 3ms/step - loss: 0.2687 - accuracy: 0.8772 - val_loss: 0.2695 - val_accuracy: 0.8770\n",
            "Epoch 15/25\n",
            "20326/20326 [==============================] - 56s 3ms/step - loss: 0.2687 - accuracy: 0.8774 - val_loss: 0.2689 - val_accuracy: 0.8770\n",
            "Epoch 16/25\n",
            "20326/20326 [==============================] - 54s 3ms/step - loss: 0.2686 - accuracy: 0.8775 - val_loss: 0.2691 - val_accuracy: 0.8769\n",
            "Epoch 17/25\n",
            "20326/20326 [==============================] - 58s 3ms/step - loss: 0.2686 - accuracy: 0.8775 - val_loss: 0.2699 - val_accuracy: 0.8770\n",
            "Epoch 18/25\n",
            "20326/20326 [==============================] - 57s 3ms/step - loss: 0.2686 - accuracy: 0.8773 - val_loss: 0.2684 - val_accuracy: 0.8769\n",
            "Epoch 19/25\n",
            "20326/20326 [==============================] - 79s 4ms/step - loss: 0.2684 - accuracy: 0.8774 - val_loss: 0.2691 - val_accuracy: 0.8761\n",
            "Epoch 20/25\n",
            "20326/20326 [==============================] - 53s 3ms/step - loss: 0.2685 - accuracy: 0.8773 - val_loss: 0.2691 - val_accuracy: 0.8767\n",
            "Epoch 21/25\n",
            "20326/20326 [==============================] - 54s 3ms/step - loss: 0.2683 - accuracy: 0.8772 - val_loss: 0.2687 - val_accuracy: 0.8768\n",
            "Epoch 22/25\n",
            "20326/20326 [==============================] - 56s 3ms/step - loss: 0.2683 - accuracy: 0.8773 - val_loss: 0.2691 - val_accuracy: 0.8769\n",
            "Epoch 23/25\n",
            "20326/20326 [==============================] - 57s 3ms/step - loss: 0.2683 - accuracy: 0.8773 - val_loss: 0.2699 - val_accuracy: 0.8770\n",
            "Epoch 24/25\n",
            "20326/20326 [==============================] - 54s 3ms/step - loss: 0.2683 - accuracy: 0.8775 - val_loss: 0.2686 - val_accuracy: 0.8770\n",
            "Epoch 25/25\n",
            "20326/20326 [==============================] - 59s 3ms/step - loss: 0.2682 - accuracy: 0.8773 - val_loss: 0.2684 - val_accuracy: 0.8768\n"
          ]
        }
      ]
    },
    {
      "cell_type": "code",
      "source": [
        "y_pred3 = model3.predict(X_test)"
      ],
      "metadata": {
        "colab": {
          "base_uri": "https://localhost:8080/"
        },
        "id": "vrYEgce2LO2p",
        "outputId": "ebd21a57-eeee-4f51-c2cb-dcc684d3570b"
      },
      "execution_count": null,
      "outputs": [
        {
          "output_type": "stream",
          "name": "stdout",
          "text": [
            "2382/2382 [==============================] - 3s 1ms/step\n"
          ]
        }
      ]
    },
    {
      "cell_type": "code",
      "source": [
        "y_pred3 = y_pred3.round()"
      ],
      "metadata": {
        "id": "O4Fm9wyxLQTE"
      },
      "execution_count": null,
      "outputs": []
    },
    {
      "cell_type": "code",
      "source": [
        "y_pred3"
      ],
      "metadata": {
        "colab": {
          "base_uri": "https://localhost:8080/"
        },
        "id": "VJ2Q_bxpLTPx",
        "outputId": "b9900159-6d18-4ccb-cc6f-94a5466951bc"
      },
      "execution_count": null,
      "outputs": [
        {
          "output_type": "execute_result",
          "data": {
            "text/plain": [
              "array([[0.],\n",
              "       [0.],\n",
              "       [0.],\n",
              "       ...,\n",
              "       [0.],\n",
              "       [0.],\n",
              "       [0.]], dtype=float32)"
            ]
          },
          "metadata": {},
          "execution_count": 108
        }
      ]
    },
    {
      "cell_type": "markdown",
      "source": [
        "### Evaluate the three NNs"
      ],
      "metadata": {
        "id": "21ggHDTEa17b"
      }
    },
    {
      "cell_type": "code",
      "source": [
        "loss_model1, accuracy_model1 = model1.evaluate(X_test, Y_test)\n",
        "print(f\"Model 1 - Loss: {loss_model1}, Accuracy: {accuracy_model1}\")\n",
        "\n",
        "loss_model2, accuracy_model2 = model2.evaluate(X_test, Y_test)\n",
        "print(f\"Model 2 - Loss: {loss_model2}, Accuracy: {accuracy_model2}\")\n",
        "\n",
        "loss_model3, accuracy_model3 = model3.evaluate(X_test, Y_test)\n",
        "print(f\"Model 3 - Loss: {loss_model3}, Accuracy: {accuracy_model3}\")"
      ],
      "metadata": {
        "id": "MHD7htN7a1xB",
        "colab": {
          "base_uri": "https://localhost:8080/"
        },
        "outputId": "b58d6dbd-c039-4c78-e368-4005e4e90dfb"
      },
      "execution_count": null,
      "outputs": [
        {
          "output_type": "stream",
          "name": "stdout",
          "text": [
            "2382/2382 [==============================] - 6s 2ms/step - loss: 0.2686 - accuracy: 0.8770\n",
            "Model 1 - Loss: 0.26859575510025024, Accuracy: 0.876977801322937\n",
            "2382/2382 [==============================] - 4s 2ms/step - loss: 0.2750 - accuracy: 0.8770\n",
            "Model 2 - Loss: 0.27504900097846985, Accuracy: 0.8769909143447876\n",
            "2382/2382 [==============================] - 4s 2ms/step - loss: 0.2684 - accuracy: 0.8768\n",
            "Model 3 - Loss: 0.2683508098125458, Accuracy: 0.8767547607421875\n"
          ]
        }
      ]
    },
    {
      "cell_type": "markdown",
      "source": [
        "## Results analysis"
      ],
      "metadata": {
        "id": "FUb0uPdDbUmc"
      }
    },
    {
      "cell_type": "code",
      "source": [
        "cm_model1 = confusion_matrix(Y_test, y_pred1)\n",
        "cm_model2 = confusion_matrix(Y_test, y_pred2)\n",
        "cm_model3 = confusion_matrix(Y_test, y_pred3)\n",
        "\n",
        "def plot_confusion_matrix(cm, model_name):\n",
        "    plt.figure(figsize=(6, 4))\n",
        "    sns.heatmap(cm, annot=True, fmt=\"d\", cmap=\"Blues\", linewidths=.5, cbar=False)\n",
        "    plt.title(f'Confusion Matrix - {model_name}')\n",
        "    plt.show()\n",
        "\n",
        "plot_confusion_matrix(cm_model1, 'Model 1')\n",
        "plot_confusion_matrix(cm_model2, 'Model 2')\n",
        "plot_confusion_matrix(cm_model3, 'Model 3')"
      ],
      "metadata": {
        "id": "n74eAnwPbUmd",
        "colab": {
          "base_uri": "https://localhost:8080/",
          "height": 1000
        },
        "outputId": "5e45ad42-a1c9-4ba1-e3f0-86271940f77d"
      },
      "execution_count": null,
      "outputs": [
        {
          "output_type": "display_data",
          "data": {
            "text/plain": [
              "<Figure size 600x400 with 1 Axes>"
            ],
            "image/png": "[encoded data removed]"
          },
          "metadata": {}
        },
        {
          "output_type": "display_data",
          "data": {
            "text/plain": [
              "<Figure size 600x400 with 1 Axes>"
            ],
            "image/png": "[encoded data removed]"
          },
          "metadata": {}
        },
        {
          "output_type": "display_data",
          "data": {
            "text/plain": [
              "<Figure size 600x400 with 1 Axes>"
            ],
            "image/png": "[encoded data removed]"
          },
          "metadata": {}
        }
      ]
    },
    {
      "cell_type": "code",
      "source": [],
      "metadata": {
        "id": "3V9hS1q6NTpZ"
      },
      "execution_count": null,
      "outputs": []
    }
  ]
}
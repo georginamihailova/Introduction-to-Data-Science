{
  "nbformat": 4,
  "nbformat_minor": 0,
  "metadata": {
    "colab": {
      "provenance": [],
      "include_colab_link": true
    },
    "kernelspec": {
      "name": "python3",
      "display_name": "Python 3"
    }
  },
  "cells": [
    {
      "cell_type": "markdown",
      "metadata": {
        "id": "view-in-github",
        "colab_type": "text"
      },
      "source": [
        "<a href=\"https://colab.research.google.com/github/georginamihailova/Introduction-to-Data-Science/blob/main/Lab_1.ipynb\" target=\"_parent\"><img src=\"https://colab.research.google.com/assets/colab-badge.svg\" alt=\"Open In Colab\"/></a>"
      ]
    },
    {
      "cell_type": "markdown",
      "metadata": {
        "id": "W8lsmxJhkvt4"
      },
      "source": [
        "#<font color = 'Orange'>Scraping page</font>\n",
        "You need to scrape the phones with their price from: https://mobelix.com.mk/mk/mobilni-telefoni\n",
        "\n",
        "The informations you need to extract are:\n",
        "\n",
        "\n",
        "*   Phone brand: html tag (\\<h5 class=\"mb-0\">\\)\n",
        "*   Phone type: html tag (\\<h3 class=\"h5 font-weight-normal\">\\)\n",
        "*   Phone pruce: html tag (\\<p class=\"h5 price\">\\)\n",
        "\n"
      ]
    },
    {
      "cell_type": "code",
      "source": [
        "from google.colab import drive\n",
        "drive.mount('/content/drive')"
      ],
      "metadata": {
        "colab": {
          "base_uri": "https://localhost:8080/"
        },
        "id": "b5t647yd2a_o",
        "outputId": "0e3471bd-1522-45bb-a377-be3648e0713b"
      },
      "execution_count": null,
      "outputs": [
        {
          "output_type": "stream",
          "name": "stdout",
          "text": [
            "Mounted at /content/drive\n"
          ]
        }
      ]
    },
    {
      "cell_type": "markdown",
      "metadata": {
        "id": "E9QJzcuLme9J"
      },
      "source": [
        "# <font color='Orange'>Requirements specified for Web Scraping</font> (0.1 POINTS)\n"
      ]
    },
    {
      "cell_type": "markdown",
      "metadata": {
        "id": "nUtpcRz3mq7p"
      },
      "source": [
        "Import all libraries and modules that you are going to use."
      ]
    },
    {
      "cell_type": "code",
      "metadata": {
        "id": "-llJJ2vVmmgU"
      },
      "source": [
        "import numpy as np\n",
        "import pandas as pd\n",
        "import matplotlib.pyplot as plt\n",
        "from bs4 import BeautifulSoup\n",
        "import requests\n",
        "\n",
        "import warnings\n",
        "requests.packages.urllib3.disable_warnings()\n",
        "warnings.filterwarnings(\"ignore\")"
      ],
      "execution_count": null,
      "outputs": []
    },
    {
      "cell_type": "code",
      "source": [],
      "metadata": {
        "id": "u0XyaRjjdNIW"
      },
      "execution_count": null,
      "outputs": []
    },
    {
      "cell_type": "markdown",
      "metadata": {
        "id": "fJ0KNuMwm6F3"
      },
      "source": [
        "# <font color = 'Orange'> Start the scraping by sending HTTP request</font> (0.3 POINTS)\n"
      ]
    },
    {
      "cell_type": "markdown",
      "metadata": {
        "id": "4JZurHezsLpU"
      },
      "source": [
        " **Fetch a website's content - send request**"
      ]
    },
    {
      "cell_type": "code",
      "metadata": {
        "id": "Yj4JPQ6proYR"
      },
      "source": [
        "base_url = ' https://mobelix.com.mk/mk/mobilni-telefoni'\n",
        "page = 0\n",
        "has_next = False\n",
        "data = []\n",
        "\n",
        "while not has_next:\n",
        "  url = f\"{base_url}?page={page}\"\n",
        "\n",
        "  response=requests.get(url)\n",
        "\n",
        "\n",
        "  html = BeautifulSoup(response.text,'html.parser')\n",
        "\n",
        "  data+=html.find_all('div',{'class' : \"border border-0 bg-white rounded px-3 pb-3 pt-1 row mx-0 align-items-center\"})\n",
        "\n",
        "  has_next = bool(html.find('li', class_='page-item', attrs={'aria-disabled': 'true', 'aria-label': 'pagination.next'}))\n",
        "  page+=1\n"
      ],
      "execution_count": null,
      "outputs": []
    },
    {
      "cell_type": "markdown",
      "metadata": {
        "id": "Tq_F8bt4rmb9"
      },
      "source": [
        "**Get the response-status code and see:**\n",
        "<li>If the code starts with a 2, it means the request was successful.\n",
        "\n"
      ]
    },
    {
      "cell_type": "code",
      "metadata": {
        "id": "YXHM_22dtLyq",
        "colab": {
          "base_uri": "https://localhost:8080/"
        },
        "outputId": "e8e159c1-8c27-440d-8aa5-651b528dbafa"
      },
      "source": [
        "print(response)"
      ],
      "execution_count": null,
      "outputs": [
        {
          "output_type": "stream",
          "name": "stdout",
          "text": [
            "<Response [200]>\n"
          ]
        }
      ]
    },
    {
      "cell_type": "markdown",
      "metadata": {
        "id": "os6BnZqJuZpU"
      },
      "source": [
        "# <font color = 'orange'>Parse the HTML with BeautifulSoup</font> (0.3 POINTS)"
      ]
    },
    {
      "cell_type": "markdown",
      "metadata": {
        "id": "E7lcI0U3ua9r"
      },
      "source": [
        "Beautiful Soup is a Python library for pulling data out of HTML and XML files. It works with your favorite parser to provide idiomatic ways of navigating, searching, and modifying the parse tree. It commonly saves programmers hours or days of work.\n"
      ]
    },
    {
      "cell_type": "markdown",
      "metadata": {
        "id": "TA4fBO6mvBDq"
      },
      "source": [
        "**Parse using BeautifulSoap**\n",
        "\n",
        "\n"
      ]
    },
    {
      "cell_type": "markdown",
      "metadata": {
        "id": "JWe6_oBCu0LL"
      },
      "source": [
        "**Print the HTML code that you get**"
      ]
    },
    {
      "cell_type": "code",
      "metadata": {
        "id": "JN5BWb8Lu4_y",
        "colab": {
          "base_uri": "https://localhost:8080/"
        },
        "outputId": "62517a5f-ab7b-4076-caff-39279b5836a3"
      },
      "source": [
        "print(html)"
      ],
      "execution_count": null,
      "outputs": [
        {
          "output_type": "stream",
          "name": "stdout",
          "text": [
            "<!DOCTYPE html>\n",
            "\n",
            "<html lang=\"en\">\n",
            "<head>\n",
            "<!-- Required meta tags -->\n",
            "<meta charset=\"utf-8\"/>\n",
            "<title>Мобилни телефони | Mobelix Premium Mobilara</title>\n",
            "<meta content=\"width=device-width, initial-scale=1, shrink-to-fit=no\" name=\"viewport\"/>\n",
            "<meta content=\"Мобилни телефони | Mobelix Премиум Мобилара\" name=\"title\"/>\n",
            "<meta content=\"Mobile Store I Service | Mobelix Premium Mobilara Skopje нуди најголем избор на премиум додатоци за мобилни телефони: маски за мобилни телефони, диспеј, полначи, полначи за кола, бежични полначи, power bank, bluetooth слушалки, usb кабли, фолии и стакла за дисплеј и др.\" name=\"description\"/>\n",
            "<meta content=\"mobilara, mobilara skopje, mobilni dodatoci, мобилни додатоци, полначи, бежични полначи, power bank, Bluetooth slusalki, maski za telefoni\" name=\"keywords\"/>\n",
            "<meta content=\"Mobelix Премиум Мобилара\" property=\"og:site_name\">\n",
            "<meta content=\"http://mobelix.com.mk/mk/mobilni-telefoni?page=22\" property=\"og:url\">\n",
            "<meta content=\"Мобилни телефони | Mobelix Премиум Мобилара\" property=\"og:title\">\n",
            "<meta content=\"article\" property=\"og:type\">\n",
            "<meta content=\"http://mobelix.com.mkhttps://mobelix.com.mk/storage/app/media/about-us/about-us.jpg\" property=\"og:image\">\n",
            "<meta content=\"Мобеликс Премиум мобилара е опремена со најсовремени машини и посебно обучен кадар кој ќе ви помогне во најкраток можен рок да ги решите сите проблеми поврзани со вашиот мобилен телефон. Секогаш во чекор со новитетите во својата област, нудејќи производи и услуги достапни за секого.\" property=\"og:description\"/>\n",
            "<meta content=\"summary\" name=\"twitter:card\"/>\n",
            "<meta content=\"Мобилни телефони | Mobelix Премиум Мобилара\" name=\"twitter:title\"/>\n",
            "<meta content=\"Мобеликс Премиум мобилара е опремена со најсовремени машини и посебно обучен кадар кој ќе ви помогне во најкраток можен рок да ги решите сите проблеми поврзани со вашиот мобилен телефон. Секогаш во чекор со новитетите во својата област, нудејќи производи и услуги достапни за секого.\" name=\"twitter:description\"/>\n",
            "<meta content=\"http://mobelix.com.mkhttps://mobelix.com.mk/storage/app/media/about-us/about-us.jpg\" name=\"twitter:image\"/>\n",
            "<link href=\"http://mobelix.com.mk/mk/mobilni-telefoni?page=22\" rel=\"canonical\"/>\n",
            "<link href=\"https://mobelix.com.mk/themes/mobelix/assets/img/favicon.png\" rel=\"icon\" type=\"image/x-icon\"/>\n",
            "<!-- Bootstrap CSS -->\n",
            "<link crossorigin=\"anonymous\" href=\"https://stackpath.bootstrapcdn.com/bootstrap/4.1.3/css/bootstrap.min.css\" integrity=\"sha384-MCw98/SFnGE8fJT3GXwEOngsV7Zt27NXFoaoApmYm81iuXoPkFOJwJ8ERdknLPMO\" rel=\"stylesheet\"/>\n",
            "<link href=\"https://mobelix.com.mk/themes/mobelix/assets/css/line-awesome.css\" rel=\"stylesheet\" type=\"text/css\"/>\n",
            "<link href=\"https://mobelix.com.mk/themes/mobelix/assets/vendor/slick/slick.css\" rel=\"stylesheet\" type=\"text/css\"/>\n",
            "<link href=\"https://mobelix.com.mk/themes/mobelix/assets/vendor/slick/slick-theme.css\" rel=\"stylesheet\" type=\"text/css\"/>\n",
            "<link href=\"https://mobelix.com.mk/themes/mobelix/assets/css/style.css\" rel=\"stylesheet\" type=\"text/css\"/>\n",
            "<link href=\"https://mobelix.com.mk/themes/mobelix/assets/css/custom.css\" rel=\"stylesheet\" type=\"text/css\"/>\n",
            "<link href=\"https://mobelix.com.mk/themes/mobelix/assets/css/animate.css\" rel=\"stylesheet\" type=\"text/css\"/>\n",
            "<link href=\"https://fonts.googleapis.com/css?family=Montserrat:400,500,600,800,900&amp;subset=cyrillic-ext\" rel=\"stylesheet\"/>\n",
            "<link href=\"https://mobelix.com.mk/themes/mobelix/assets/vendor/fontawesome/css/font-awesome.min.css\" rel=\"stylesheet\" type=\"text/css\"/>\n",
            "<style>\n",
            "        .hidden-title {\n",
            "            position: absolute;\n",
            "            top: 0;\n",
            "            left: 0;\n",
            "            width: 0;\n",
            "            height: 0;\n",
            "            overflow: hidden;\n",
            "            visibility: hidden;\n",
            "            opacity: 0;\n",
            "        }\n",
            "            </style>\n",
            "<!-- Facebook Pixel Code -->\n",
            "<script>\n",
            "  !function(f,b,e,v,n,t,s)\n",
            "  {if(f.fbq)return;n=f.fbq=function(){n.callMethod?\n",
            "  n.callMethod.apply(n,arguments):n.queue.push(arguments)};\n",
            "  if(!f._fbq)f._fbq=n;n.push=n;n.loaded=!0;n.version='2.0';\n",
            "  n.queue=[];t=b.createElement(e);t.async=!0;\n",
            "  t.src=v;s=b.getElementsByTagName(e)[0];\n",
            "  s.parentNode.insertBefore(t,s)}(window, document,'script',\n",
            "  'https://connect.facebook.net/en_US/fbevents.js');\n",
            "    fbq('init', '516928212519211');\n",
            "    fbq('init', '357243778292278');\n",
            "    fbq('init', '298720778249916');\n",
            "    fbq('init', '533032878796577');\n",
            "\n",
            "  fbq('track', 'PageView');\n",
            "</script>\n",
            "<noscript><img height=\"1\" src=\"https://www.facebook.com/tr?id=516928212519211&amp;ev=PageView&amp;noscript=1\" style=\"display:none\" width=\"1\"/></noscript>\n",
            "<!-- End Facebook Pixel Code -->\n",
            "<!-- Google Tag Manager -->\n",
            "<script>(function(w,d,s,l,i){w[l]=w[l]||[];w[l].push({'gtm.start':\n",
            "new Date().getTime(),event:'gtm.js'});var f=d.getElementsByTagName(s)[0],\n",
            "j=d.createElement(s),dl=l!='dataLayer'?'&l='+l:'';j.async=true;j.src=\n",
            "'https://www.googletagmanager.com/gtm.js?id='+i+dl;f.parentNode.insertBefore(j,f);\n",
            "})(window,document,'script','dataLayer','GTM-NDN8HG9');</script>\n",
            "<!-- End Google Tag Manager -->\n",
            "</meta></meta></meta></meta></meta></head>\n",
            "<body itemid=\"http://mobelix.com.mk\" itemscope=\"\" itemtype=\"http://schema.org/MobilePhoneStore\">\n",
            "<!-- Google Tag Manager (noscript) -->\n",
            "<noscript><iframe height=\"0\" src=\"https://www.googletagmanager.com/ns.html?id=GTM-NDN8HG9\" style=\"display:none;visibility:hidden\" width=\"0\"></iframe></noscript>\n",
            "<!-- End Google Tag Manager (noscript) -->\n",
            "<div id=\"preloader\"></div>\n",
            "<header class=\"shadow-sm\">\n",
            "<div class=\"top-bar bg-dark text-white\">\n",
            "<div class=\"container\">\n",
            "<div class=\"d-flex flex-wrap justify-content-between align-items-center small\">\n",
            "<div class=\"top-bar-info\">\n",
            "<p class=\"mb-0\">Корисничка поддршка: <a class=\"ml-1\" href=\"tel:+38922772272\">02 2772 272</a></p>\n",
            "</div>\n",
            "<div class=\"top-bar-info\">\n",
            "<ul class=\"nav text-white justify-content-center\">\n",
            "<li class=\"nav-item\">\n",
            "<a class=\"nav-link\" href=\"https://mobelix.com.mk/mk/lista-na-zhelbi\">Листа на желби</a>\n",
            "</li>\n",
            "<li class=\"nav-item\">\n",
            "<a class=\"nav-link\" href=\"https://mobelix.com.mk/mk/kontakt\">Испрати порака</a>\n",
            "</li>\n",
            "</ul>\n",
            "</div>\n",
            "</div>\n",
            "</div>\n",
            "</div>\n",
            "<nav class=\"navbar navbar-expand-lg navbar-light bg-white px-0 py-2 py-lg-3\">\n",
            "<div class=\"container align-items-center px-3\">\n",
            "<a class=\"navbar-brand order-0\" href=\"https://mobelix.com.mk/mk\"><img src=\"https://mobelix.com.mk/themes/mobelix/assets/img/logo.svg\"/></a>\n",
            "<div class=\"collapse search-collapse order-3 order-lg-2 input-search\" id=\"collapseSearch\">\n",
            "<form action=\"https://mobelix.com.mk/mk/prebaruvanje\" class=\"my-3 my-lg-0 with-border\" method=\"GET\">\n",
            "<div class=\"input-group flex-nowrap\">\n",
            "<div class=\"input-group-prepend d-flex bg-gold-gradient-wrapper border-radius-left\">\n",
            "<select class=\"custom-select hover-yellow pr-5 pl-4 w-auto bg-light h-auto d-none d-sm-block\" id=\"inputGroupSelect01\" name=\"category\">\n",
            "<option value=\"mobilni-uredi\">Мобилни телефони</option>\n",
            "<option value=\"mobilni-dodatoci\">Мобилни додатоци</option>\n",
            "</select>\n",
            "</div>\n",
            "<input class=\"form-control w-50 py-4 pl-0 ml-4 pr-0\" name=\"product\" placeholder=\"Пребарајте по производи\" type=\"text\" value=\"\"/>\n",
            "<div class=\"input-group-append bg-gold-gradient-wrapper border-radius-right\">\n",
            "<button class=\"btn btn-default bg-light hover-yellow btn-search-mobelix\"><i class=\"la la-search\"></i></button>\n",
            "</div>\n",
            "</div>\n",
            "</form>\n",
            "</div>\n",
            "<div class=\"burger-wrapper d-flex align-items-center order-2 order-lg-3\">\n",
            "<div class=\"mr-3 mr-lg-0 ml-lg-4\" id=\"wishlist\">\n",
            "<div class=\"d-flex\">\n",
            "<a class=\"d-flex align-items-center wishlist-wrapper\" href=\"https://mobelix.com.mk/mk/lista-na-zhelbi\">\n",
            "<div class=\"icon-wishlist\">\n",
            "<i class=\"la la-heart-o\"></i>\n",
            "</div>\n",
            "<div class=\"small ml-2 d-none d-lg-block\">\n",
            "<p class=\"mb-0\">Листа на желби</p>\n",
            "</div>\n",
            "</a>\n",
            "<span aria-controls=\"collapseSearch\" aria-expanded=\"false\" class=\"search-toggler ml-lg-3 d-lg-none\" data-target=\"#collapseSearch\" data-toggle=\"collapse\"><i class=\"la la-search\"></i></span>\n",
            "</div>\n",
            "</div>\n",
            "<button aria-controls=\"navbarSupportedContent\" aria-expanded=\"false\" aria-label=\"Toggle navigation\" class=\"navbar-toggler d-lg-none border-0\" data-target=\"#navbarSupportedContent\" data-toggle=\"collapse\" type=\"button\">\n",
            "<span class=\"navbar-toggler-icon\"></span>\n",
            "</button>\n",
            "</div>\n",
            "</div>\n",
            "</nav>\n",
            "<div class=\"container px-3 d-none d-lg-block\">\n",
            "<hr class=\"my-0\"/>\n",
            "</div>\n",
            "<nav class=\"navbar navbar-expand-lg navbar-light bg-white px-0 py-0 py-lg-2\">\n",
            "<div class=\"container px-3\">\n",
            "<div class=\"collapse navbar-collapse navbar-collapsible\" id=\"navbarSupportedContent\">\n",
            "<ul class=\"navbar-nav w-100 py-2 py-md-0\">\n",
            "<li class=\"nav-item\">\n",
            "<a class=\"nav-link text-capitalize pl-0\" href=\"https://mobelix.com.mk/mk\">Почетна</a>\n",
            "</li>\n",
            "<li class=\"nav-item dropdown\">\n",
            "<div aria-expanded=\"false\" aria-haspopup=\"true\" class=\"nav-link dropdown-toggle\" data-toggle=\"dropdown\" id=\"navbarDropdown\" role=\"button\">\n",
            "\n",
            "              Производи\n",
            "\n",
            "            </div>\n",
            "<div class=\"dropdown-menu mt-3 mt-lg-0\">\n",
            "<a class=\"nav-link text-capitalize dropdown-item\" href=\"https://mobelix.com.mk/mk/mobilni-telefoni\">Мобилни телефони</a>\n",
            "<a class=\"nav-link text-capitalize dropdown-item\" href=\"https://mobelix.com.mk/mk/smart-chasovnici\">Smart часовници</a>\n",
            "<a class=\"nav-link text-capitalize dropdown-item\" href=\"https://mobelix.com.mk/mk/mobilni-dodatoci\">Мобилни додатоци</a>\n",
            "<a class=\"nav-link text-capitalize dropdown-item\" href=\"https://mobelix.com.mk/mk/eksponati\">Експонати</a>\n",
            "</div>\n",
            "</li>\n",
            "<li class=\"nav-item border-right pr-3\">\n",
            "<a class=\"nav-link text-capitalize\" href=\"https://mobelix.com.mk/mk/servis\">Сервис</a>\n",
            "</li>\n",
            "<li class=\"nav-item\">\n",
            "<a class=\"nav-link text-capitalize\" href=\"https://mobelix.com.mk/mk/premium-mobilara\">Премиум Мобилара</a>\n",
            "</li>\n",
            "<li class=\"nav-item ml-lg-auto\">\n",
            "<a class=\"nav-link text-capitalize\" href=\"https://mobelix.com.mk/mk/chesto-postavuvani-prashanja\">ЧПП</a>\n",
            "</li>\n",
            "<li class=\"nav-item\">\n",
            "<a class=\"nav-link text-capitalize\" href=\"https://mobelix.com.mk/mk/novosti\">Новости</a>\n",
            "</li>\n",
            "<li class=\"nav-item\">\n",
            "<a class=\"nav-link text-capitalize pr-lg-0\" href=\"https://mobelix.com.mk/mk/kontakt\">Контакт</a>\n",
            "</li>\n",
            "</ul>\n",
            "</div>\n",
            "</div>\n",
            "</nav>\n",
            "</header> <section class=\"category-section pt-4 pt-xl-5 pb-3\">\n",
            "<div class=\"container\">\n",
            "<h1 class=\"h2\">Мобилни телефони</h1>\n",
            "<nav aria-label=\"breadcrumb\">\n",
            "<ol class=\"breadcrumb bg-white p-0 mb-2\">\n",
            "<li class=\"breadcrumb-item\"><a href=\"https://mobelix.com.mk/mk\">Дома</a></li>\n",
            "<li aria-current=\"page\" class=\"breadcrumb-item active\">Мобилни телефони</li>\n",
            "</ol>\n",
            "</nav>\n",
            "</div>\n",
            "</section>\n",
            "<section class=\"bg-light pb-4 pb-xl-5 pt-3\">\n",
            "<div class=\"container\">\n",
            "<div class=\"row\">\n",
            "<div class=\"col-lg-3\">\n",
            "<div class=\"block mt-3 d-none d-lg-block\">\n",
            "<h5 class=\"h4 pb-2 categories-title\">Производи</h5>\n",
            "<ul class=\"nav flex-column categories-nav\">\n",
            "<li class=\"nav-item\">\n",
            "<a class=\"nav-link little-heading active\" href=\"https://mobelix.com.mk/mk/mobilni-telefoni\">Мобилни телефони</a>\n",
            "<button aria-controls=\"mobileList\" aria-expanded=\"true\" class=\"category-toggle\" data-target=\"#mobileList\" data-toggle=\"collapse\" type=\"button\">\n",
            "</button>\n",
            "<div class=\"collapse show\" id=\"mobileList\">\n",
            "<ul class=\"nav flex-column categories-nav\">\n",
            "<a class=\"nav-link pl-3 line-left\" href=\"https://mobelix.com.mk/mk/brendovi/apple\">\n",
            "<h2 class=\"h6 mb-0 brand-menu\">Apple</h2> </a>\n",
            "<a class=\"nav-link pl-3 line-left\" href=\"https://mobelix.com.mk/mk/brendovi/samsung\">\n",
            "<h2 class=\"h6 mb-0 brand-menu\">Samsung</h2> </a>\n",
            "<a class=\"nav-link pl-3 line-left\" href=\"https://mobelix.com.mk/mk/brendovi/huawei\">\n",
            "<h2 class=\"h6 mb-0 brand-menu\">Huawei</h2> </a>\n",
            "<a class=\"nav-link pl-3 line-left\" href=\"https://mobelix.com.mk/mk/brendovi/xiaomi\">\n",
            "<h2 class=\"h6 mb-0 brand-menu\">Xiaomi</h2> </a>\n",
            "<a class=\"nav-link pl-3 line-left\" href=\"https://mobelix.com.mk/mk/brendovi/blackberry\">\n",
            "<h2 class=\"h6 mb-0 brand-menu\">Blackberry</h2> </a>\n",
            "<a class=\"nav-link pl-3 line-left\" href=\"https://mobelix.com.mk/mk/brendovi/one-plus\">\n",
            "<h2 class=\"h6 mb-0 brand-menu\">One Plus</h2> </a>\n",
            "<a class=\"nav-link pl-3 line-left\" href=\"https://mobelix.com.mk/mk/brendovi/nokia\">\n",
            "<h2 class=\"h6 mb-0 brand-menu\">Nokia</h2> </a>\n",
            "<a class=\"nav-link pl-3 line-left\" href=\"https://mobelix.com.mk/mk/brendovi/google\">\n",
            "<h2 class=\"h6 mb-0 brand-menu\">Google</h2> </a>\n",
            "<a class=\"nav-link pl-3 line-left\" href=\"https://mobelix.com.mk/mk/brendovi/asus\">\n",
            "<h2 class=\"h6 mb-0 brand-menu\">ASUS</h2> </a>\n",
            "<a class=\"nav-link pl-3 line-left\" href=\"https://mobelix.com.mk/mk/brendovi/zte\">\n",
            "<h2 class=\"h6 mb-0 brand-menu\">ZTE</h2> </a>\n",
            "</ul>\n",
            "</div>\n",
            "</li>\n",
            "<li class=\"nav-item\">\n",
            "<a class=\"nav-link little-heading\" href=\"https://mobelix.com.mk/mk/smart-chasovnici\">Smart часовници</a>\n",
            "<button aria-controls=\"smartWatch\" aria-expanded=\"false\" class=\"category-toggle\" data-target=\"#smartWatch\" data-toggle=\"collapse\" type=\"button\">\n",
            "</button>\n",
            "<div class=\"collapse\" id=\"smartWatch\">\n",
            "<ul class=\"nav flex-column categories-nav\">\n",
            "<a class=\"nav-link pl-3 line-left\" href=\"https://mobelix.com.mk/mk/smartwatch-brend/apple\">Apple</a>\n",
            "<a class=\"nav-link pl-3 line-left\" href=\"https://mobelix.com.mk/mk/smartwatch-brend/samsung\">Samsung</a>\n",
            "<a class=\"nav-link pl-3 line-left\" href=\"https://mobelix.com.mk/mk/smartwatch-brend/huawei\">Huawei</a>\n",
            "<a class=\"nav-link pl-3 line-left\" href=\"https://mobelix.com.mk/mk/smartwatch-brend/xiaomi\">Xiaomi</a>\n",
            "<a class=\"nav-link pl-3 line-left\" href=\"https://mobelix.com.mk/mk/smartwatch-brend/zte\">ZTE</a>\n",
            "</ul>\n",
            "</div>\n",
            "</li>\n",
            "<li class=\"nav-item\">\n",
            "<a class=\"nav-link little-heading\" href=\"https://mobelix.com.mk/mk/mobilni-dodatoci\">Мобилни додатоци</a>\n",
            "<button aria-controls=\"collapseExample\" aria-expanded=\"false\" class=\"category-toggle\" data-target=\"#collapseExample\" data-toggle=\"collapse\" type=\"button\">\n",
            "</button>\n",
            "<div class=\"collapse\" id=\"collapseExample\">\n",
            "<ul class=\"nav flex-column categories-nav\">\n",
            "<a class=\"nav-link pl-3 line-left\" href=\"https://mobelix.com.mk/mk/mobilni-dodatoci/apple-accessories\">\n",
            "                                        Apple Accessories                                    </a>\n",
            "<a class=\"nav-link pl-3 line-left\" href=\"https://mobelix.com.mk/mk/mobilni-dodatoci/audio-converter\">\n",
            "                                        Audio Converter                                    </a>\n",
            "<a class=\"nav-link pl-3 line-left\" href=\"https://mobelix.com.mk/mk/mobilni-dodatoci/aux-audio\">\n",
            "                                        AUX Audio                                    </a>\n",
            "<a class=\"nav-link pl-3 line-left\" href=\"https://mobelix.com.mk/mk/mobilni-dodatoci/back-cover\">\n",
            "                                        Back Cover                                    </a>\n",
            "<a class=\"nav-link pl-3 line-left\" href=\"https://mobelix.com.mk/mk/mobilni-dodatoci/bluetooth-earphones\">\n",
            "                                        Bluetooth Headphones                                    </a>\n",
            "<a class=\"nav-link pl-3 line-left\" href=\"https://mobelix.com.mk/mk/mobilni-dodatoci/car-charger\">\n",
            "                                        Car Charger                                    </a>\n",
            "<a class=\"nav-link pl-3 line-left\" href=\"https://mobelix.com.mk/mk/mobilni-dodatoci/car-mount\">\n",
            "                                        Car Mount                                    </a>\n",
            "<a class=\"nav-link pl-3 line-left\" href=\"https://mobelix.com.mk/mk/mobilni-dodatoci/case\">\n",
            "                                        Case                                    </a>\n",
            "<a class=\"nav-link pl-3 line-left\" href=\"https://mobelix.com.mk/mk/mobilni-dodatoci/charger\">\n",
            "                                        Charger                                    </a>\n",
            "<a class=\"nav-link pl-3 line-left\" href=\"https://mobelix.com.mk/mk/mobilni-dodatoci/display\">\n",
            "                                        Display                                    </a>\n",
            "<a class=\"nav-link pl-3 line-left\" href=\"https://mobelix.com.mk/mk/mobilni-dodatoci/earphones\">\n",
            "                                        Earphones                                    </a>\n",
            "<a class=\"nav-link pl-3 line-left\" href=\"https://mobelix.com.mk/mk/mobilni-dodatoci/gaming\">\n",
            "                                        Gaming                                    </a>\n",
            "<a class=\"nav-link pl-3 line-left\" href=\"https://mobelix.com.mk/mk/mobilni-dodatoci/glass-film\">\n",
            "                                        Glass Film                                    </a>\n",
            "<a class=\"nav-link pl-3 line-left\" href=\"https://mobelix.com.mk/mk/mobilni-dodatoci/headphones\">\n",
            "                                        Headphones                                    </a>\n",
            "<a class=\"nav-link pl-3 line-left\" href=\"https://mobelix.com.mk/mk/mobilni-dodatoci/mp3-bluetooth\">\n",
            "                                        MP3 Bluetooth                                    </a>\n",
            "<a class=\"nav-link pl-3 line-left\" href=\"https://mobelix.com.mk/mk/mobilni-dodatoci/power-bank\">\n",
            "                                        Power Bank                                    </a>\n",
            "<a class=\"nav-link pl-3 line-left\" href=\"https://mobelix.com.mk/mk/mobilni-dodatoci/samsung-accessories\">\n",
            "                                        Samsung Accessories                                    </a>\n",
            "<a class=\"nav-link pl-3 line-left\" href=\"https://mobelix.com.mk/mk/mobilni-dodatoci/usb-cable\">\n",
            "                                        USB Cable                                    </a>\n",
            "<a class=\"nav-link pl-3 line-left\" href=\"https://mobelix.com.mk/mk/mobilni-dodatoci/wireless-charger\">\n",
            "                                        Wireless Charger                                    </a>\n",
            "<a class=\"nav-link pl-3 line-left\" href=\"https://mobelix.com.mk/mk/mobilni-dodatoci/wireless-earphone\">\n",
            "                                        Wireless Earphones                                    </a>\n",
            "<a class=\"nav-link pl-3 line-left\" href=\"https://mobelix.com.mk/mk/mobilni-dodatoci/wireless-headphone\">\n",
            "                                        Wireless Headphones                                    </a>\n",
            "<a class=\"nav-link pl-3 line-left\" href=\"https://mobelix.com.mk/mk/mobilni-dodatoci/wireless-speaker\">\n",
            "                                        Wireless Speaker                                    </a>\n",
            "</ul>\n",
            "</div>\n",
            "</li>\n",
            "<li class=\"nav-item\">\n",
            "<a class=\"nav-link little-heading\" href=\"https://mobelix.com.mk/mk/eksponati\">Експонати</a>\n",
            "<button aria-controls=\"used_phones_list\" aria-expanded=\"false\" class=\"category-toggle\" data-target=\"#used_phones_list\" data-toggle=\"collapse\" type=\"button\">\n",
            "</button>\n",
            "<div class=\"collapse\" id=\"used_phones_list\">\n",
            "<ul class=\"nav flex-column categories-nav\">\n",
            "<a class=\"nav-link pl-3 line-left\" href=\"https://mobelix.com.mk/mk/eksponati/apple\">\n",
            "                                        Apple                                    </a>\n",
            "<a class=\"nav-link pl-3 line-left\" href=\"https://mobelix.com.mk/mk/eksponati/samsung\">\n",
            "                                        Samsung                                    </a>\n",
            "<a class=\"nav-link pl-3 line-left\" href=\"https://mobelix.com.mk/mk/eksponati/huawei\">\n",
            "                                        Huawei                                    </a>\n",
            "<a class=\"nav-link pl-3 line-left\" href=\"https://mobelix.com.mk/mk/eksponati/one-plus\">\n",
            "                                        One Plus                                    </a>\n",
            "<a class=\"nav-link pl-3 line-left\" href=\"https://mobelix.com.mk/mk/eksponati/oppo\">\n",
            "                                        Oppo                                    </a>\n",
            "<a class=\"nav-link pl-3 line-left\" href=\"https://mobelix.com.mk/mk/eksponati/google\">\n",
            "                                        Google                                    </a>\n",
            "</ul>\n",
            "</div>\n",
            "</li>\n",
            "</ul>\n",
            "</div>\n",
            "</div>\n",
            "<div class=\"col-lg-9 product-listing\">\n",
            "<div class=\"d-flex mt-lg-3 justify-content-start justify-content-lg-between align-items-center flex-column flex-md-row\">\n",
            "<div class=\"d-flex flex-wrap flex-sm-nowrap w-100\">\n",
            "<div class=\"select-wrapper bg-gradient mr-3 mb-2 mb-lg-0\">\n",
            "<select class=\"d-lg-none custom-select w-auto white-arrow mb-0\" id=\"brandSelect\">\n",
            "<option value=\"https://mobelix.com.mk/mk/mobilni-telefoni\">Сите Брендови</option>\n",
            "<option value=\"https://mobelix.com.mk/mk/brendovi/apple\">Apple</option>\n",
            "<option value=\"https://mobelix.com.mk/mk/brendovi/samsung\">Samsung</option>\n",
            "<option value=\"https://mobelix.com.mk/mk/brendovi/huawei\">Huawei</option>\n",
            "<option value=\"https://mobelix.com.mk/mk/brendovi/xiaomi\">Xiaomi</option>\n",
            "<option value=\"https://mobelix.com.mk/mk/brendovi/blackberry\">Blackberry</option>\n",
            "<option value=\"https://mobelix.com.mk/mk/brendovi/one-plus\">One Plus</option>\n",
            "<option value=\"https://mobelix.com.mk/mk/brendovi/nokia\">Nokia</option>\n",
            "<option value=\"https://mobelix.com.mk/mk/brendovi/google\">Google</option>\n",
            "<option value=\"https://mobelix.com.mk/mk/brendovi/asus\">ASUS</option>\n",
            "<option value=\"https://mobelix.com.mk/mk/brendovi/zte\">ZTE</option>\n",
            "</select>\n",
            "</div>\n",
            "<form action=\"https://mobelix.com.mk/mk/mobilni-telefoni\" id=\"orderForm\" method=\"GET\">\n",
            "<select class=\"custom-select mr-sm-2 w-auto\" name=\"orderBy\">\n",
            "<option value=\"cheap\">Цена: Ниска &gt; Висока</option>\n",
            "<option value=\"expensive\">Цена: Висока &gt; Ниска</option>\n",
            "<option selected=\"\" value=\"standard\">Стандардно подредување</option>\n",
            "<option value=\"new\">Понови &gt; Постари</option>\n",
            "<option value=\"old\">Постари &gt; Понови</option>\n",
            "</select>\n",
            "</form>\n",
            "</div>\n",
            "<div class=\"w-100\">\n",
            "<p class=\"result mt-3 mt-md-0 mb-0 text-left text-md-right\">Прикажани 190-191 од 191 резултати.</p>\n",
            "</div>\n",
            "</div>\n",
            "<div class=\"row mt-3\">\n",
            "<div class=\"tab-col col-6 col-md-4 my-3 product-wrapper d-flex text-center onsale wow fadeInUp\">\n",
            "<div class=\"p-2 rounded text-dark bg-white d-flex w-100\">\n",
            "<a class=\"d-flex w-100\" href=\"https://mobelix.com.mk/mk/proizvodi/one-plus-nord-n10-6gb-ram128gb\">\n",
            "<div class=\"border border-0 bg-white rounded px-3 pb-3 pt-1 row mx-0 align-items-center\">\n",
            "<div class=\"col-12 product-img-wrapper pt-3\">\n",
            "<img alt=\"One Plus Nord N10 6GB RAM/128GB\" class=\"img-fluid mb-2 mb-xl-3\" src=\"https://mobelix.com.mk/storage/app/uploads/public/5fd/345/9b9/thumb_2418_550_800_0_0_crop.png\"/>\n",
            "</div>\n",
            "<div class=\"col-12\">\n",
            "<h5 class=\"mb-0\">One Plus</h5>\n",
            "<h3 class=\"h5 font-weight-normal\">Nord N10 6GB RAM/128GB</h3>\n",
            "<p class=\"h5 price\"><del class=\"mr-2 small\">21,500.00</del><br/>19,700.00 ден</p>\n",
            "<button class=\"btn btn-outline-primary\">Повеќе</button>\n",
            "</div>\n",
            "</div>\n",
            "<span class=\"badge badge-primary\">-8%</span>\n",
            "</a>\n",
            "</div>\n",
            "</div>\n",
            "<div class=\"tab-col col-6 col-md-4 my-3 product-wrapper d-flex text-center onsale wow fadeInUp\">\n",
            "<div class=\"p-2 rounded text-dark bg-white d-flex w-100\">\n",
            "<a class=\"d-flex w-100\" href=\"https://mobelix.com.mk/mk/proizvodi/one-plus-8-pro-12gb-ram256\">\n",
            "<div class=\"border border-0 bg-white rounded px-3 pb-3 pt-1 row mx-0 align-items-center\">\n",
            "<div class=\"col-12 product-img-wrapper pt-3\">\n",
            "<img alt=\"One Plus 8 Pro 12GB Ram/256\" class=\"img-fluid mb-2 mb-xl-3\" src=\"https://mobelix.com.mk/storage/app/uploads/public/5eb/2cd/447/thumb_2075_550_800_0_0_crop.png\"/>\n",
            "</div>\n",
            "<div class=\"col-12\">\n",
            "<h5 class=\"mb-0\">One Plus</h5>\n",
            "<h3 class=\"h5 font-weight-normal\">8 Pro 12GB Ram/256</h3>\n",
            "<p class=\"h5 price\"><del class=\"mr-2 small\">43,000.00</del><br/>40,000.00 ден</p>\n",
            "<button class=\"btn btn-outline-primary\">Повеќе</button>\n",
            "</div>\n",
            "</div>\n",
            "<span class=\"badge badge-primary\">-7%</span>\n",
            "</a>\n",
            "</div>\n",
            "</div>\n",
            "</div>\n",
            "<hr/>\n",
            "<nav>\n",
            "<ul class=\"pagination\">\n",
            "<li class=\"page-item\">\n",
            "<a aria-label=\"pagination.previous\" class=\"page-link\" href=\"https://mobelix.com.mk/mk/mobilni-telefoni?page=21\" rel=\"prev\">‹</a>\n",
            "</li>\n",
            "<li class=\"page-item\"><a class=\"page-link\" href=\"https://mobelix.com.mk/mk/mobilni-telefoni?page=1\">1</a></li>\n",
            "<li class=\"page-item\"><a class=\"page-link\" href=\"https://mobelix.com.mk/mk/mobilni-telefoni?page=2\">2</a></li>\n",
            "<li aria-disabled=\"true\" class=\"page-item disabled\"><span class=\"page-link\">...</span></li>\n",
            "<li class=\"page-item\"><a class=\"page-link\" href=\"https://mobelix.com.mk/mk/mobilni-telefoni?page=14\">14</a></li>\n",
            "<li class=\"page-item\"><a class=\"page-link\" href=\"https://mobelix.com.mk/mk/mobilni-telefoni?page=15\">15</a></li>\n",
            "<li class=\"page-item\"><a class=\"page-link\" href=\"https://mobelix.com.mk/mk/mobilni-telefoni?page=16\">16</a></li>\n",
            "<li class=\"page-item\"><a class=\"page-link\" href=\"https://mobelix.com.mk/mk/mobilni-telefoni?page=17\">17</a></li>\n",
            "<li class=\"page-item\"><a class=\"page-link\" href=\"https://mobelix.com.mk/mk/mobilni-telefoni?page=18\">18</a></li>\n",
            "<li class=\"page-item\"><a class=\"page-link\" href=\"https://mobelix.com.mk/mk/mobilni-telefoni?page=19\">19</a></li>\n",
            "<li class=\"page-item\"><a class=\"page-link\" href=\"https://mobelix.com.mk/mk/mobilni-telefoni?page=20\">20</a></li>\n",
            "<li class=\"page-item\"><a class=\"page-link\" href=\"https://mobelix.com.mk/mk/mobilni-telefoni?page=21\">21</a></li>\n",
            "<li aria-current=\"page\" class=\"page-item active\"><span class=\"page-link\">22</span></li>\n",
            "<li aria-disabled=\"true\" aria-label=\"pagination.next\" class=\"page-item disabled\">\n",
            "<span aria-hidden=\"true\" class=\"page-link\">›</span>\n",
            "</li>\n",
            "</ul>\n",
            "</nav>\n",
            "</div>\n",
            "</div>\n",
            "</div>\n",
            "</section>\n",
            "<footer class=\"text-white\">\n",
            "<div class=\"footer-bg-img py-4 py-xl-5\" style=\"background-image: url('https://mobelix.com.mk/storage/app/media/about-us/about-bg.jpg')\">\n",
            "<div class=\"container\">\n",
            "<div class=\"img-wrapper position-relative text-center mb-md-4 pb-3\">\n",
            "<img class=\"footer-logo img-fluid\" src=\"https://mobelix.com.mk/themes/mobelix/assets/img/logo-white.svg\"/>\n",
            "<p class=\"text-center mb-0 mt-2\">Прва Премиум Мобилара</p>\n",
            "</div>\n",
            "<div class=\"row border-gold bg-dark-opacity py-3 py-md-5\">\n",
            "<div class=\"info-col col-md-4 py-2 py-lg-3 text-center footer-info\">\n",
            "<h5 class=\"h5 mb-2\">E-Mail</h5>\n",
            "<a class=\"white-link\" href=\"mailto:info@mobelix.com.mk\">info@mobelix.com.mk</a>\n",
            "</div>\n",
            "<div class=\"info-col col-md-4 py-2 py-lg-3 text-center footer-info\">\n",
            "<h5 class=\"h5 mb-2\">Телефон</h5>\n",
            "<a class=\"white-link\" href=\"tel:+389 70 676 777\">070 676 777</a>\n",
            "</div>\n",
            "<div class=\"info-col col-md-4 py-2 py-lg-3 text-center footer-info\">\n",
            "<h5 class=\"h5 mb-2\">Социјални Медиуми</h5>\n",
            "<p class=\"white-link mb-0\">Следете не - <a class=\"white-link\" href=\"https://www.facebook.com/mobelixpremiummobilara/\" target=\"_blank\"><i aria-hidden=\"true\" class=\"fa fa-facebook\"></i></a> <a class=\"white-link\" href=\"https://www.instagram.com/mobelix_premium_mobilara/?hl=en\" target=\"_blank\"><i aria-hidden=\"true\" class=\"fa fa-instagram\"></i></a></p>\n",
            "</div>\n",
            "</div>\n",
            "<div class=\"text-center position-relative mt-4\">\n",
            "<p class=\"h6 text-white font-weight-normal\">Ул. БОРИС ТРАЈКОВСКИ бр.1 локал 16 Скопје, Р. Македонија</p>\n",
            "</div>\n",
            "</div>\n",
            "</div>\n",
            "<iframe allowfullscreen=\"\" class=\"footer-map map-mobelix\" frameborder=\"0\" src=\"https://www.google.com/maps/embed?pb=!1m14!1m8!1m3!1d5931.395430663015!2d21.435329884896095!3d41.98529948892254!3m2!1i1024!2i768!4f13.1!3m3!1m2!1s0x0%3A0x0!2zNDHCsDU5JzA2LjYiTiAyMcKwMjYnMTcuOCJF!5e0!3m2!1sen!2smk!4v1544524662477\" style=\"border:0\" width=\"100%\"></iframe> <div class=\"bottom-bar-wrapper bg-dark\">\n",
            "<div class=\"container bottom-bar px-0\">\n",
            "<div class=\"d-md-flex justify-content-between small py-3\">\n",
            "<div class=\"mb-3 mb-md-0 text-center text-md-left\">\n",
            "<ul class=\"list-unstyled list-inline mb-0 mobile-block\">\n",
            "<li class=\"list-inline-item pb-1 pb-sm-0\">\n",
            "<a class=\"text-white\" href=\"https://mobelix.com.mk/mk/cookies\">Колачиња</a>\n",
            "</li>\n",
            "<li class=\"list-inline-item pb-1 pb-sm-0\">\n",
            "<a class=\"text-white\" href=\"https://mobelix.com.mk/mk/politika-na-privatnost\">Политика за приватност</a>\n",
            "</li>\n",
            "<li class=\"list-inline-item pb-1 pb-sm-0\">\n",
            "<a class=\"text-white\" href=\"https://mobelix.com.mk/mk/uslovi-na-koristenje\">Услови на користење</a>\n",
            "</li>\n",
            "</ul>\n",
            "</div>\n",
            "<div>\n",
            "<p class=\"mb-0 text-white text-center text-md-right\">Web Design - <a class=\"text-white font-weight-bold\" href=\"https://kara5.com\" target=\"_blank\">Kara5</a></p>\n",
            "</div>\n",
            "</div>\n",
            "</div>\n",
            "</div>\n",
            "</footer>\n",
            "<!-- Load Facebook SDK for JavaScript -->\n",
            "<div id=\"fb-root\"></div>\n",
            "<script>\n",
            "window.fbAsyncInit = function() {\n",
            "  FB.init({\n",
            "    xfbml            : true,\n",
            "    version          : 'v3.2'\n",
            "  });\n",
            "};\n",
            "\n",
            "(function(d, s, id) {\n",
            "  var js, fjs = d.getElementsByTagName(s)[0];\n",
            "  if (d.getElementById(id)) return;\n",
            "  js = d.createElement(s); js.id = id;\n",
            "  js.src = 'https://connect.facebook.net/en_US/sdk/xfbml.customerchat.js';\n",
            "  fjs.parentNode.insertBefore(js, fjs);\n",
            "}(document, 'script', 'facebook-jssdk'));</script>\n",
            "<!-- Your customer chat code -->\n",
            "<div attribution=\"install_email\" class=\"fb-customerchat\" logged_in_greeting=\"Повелете, како можеме да ви помогнеме?\" logged_out_greeting=\"Повелете, како можеме да ви помогнеме?\" page_id=\"719397841765443\" theme_color=\"#212121\">\n",
            "</div>\n",
            "<!-- Optional JavaScript -->\n",
            "<!-- jQuery first, then Popper.js, then Bootstrap JS -->\n",
            "<script src=\"https://code.jquery.com/jquery-3.3.1.min.js\"></script>\n",
            "<script crossorigin=\"anonymous\" integrity=\"sha384-ZMP7rVo3mIykV+2+9J3UJ46jBk0WLaUAdn689aCwoqbBJiSnjAK/l8WvCWPIPm49\" src=\"https://cdnjs.cloudflare.com/ajax/libs/popper.js/1.14.3/umd/popper.min.js\"></script>\n",
            "<script crossorigin=\"anonymous\" integrity=\"sha384-ChfqqxuZUCnJSK3+MXmPNIyE6ZbWh2IMqE241rYiqJxyMiZ6OW/JmZQ5stwEULTy\" src=\"https://stackpath.bootstrapcdn.com/bootstrap/4.1.3/js/bootstrap.min.js\"></script>\n",
            "<script src=\"https://mobelix.com.mk/themes/mobelix/assets/vendor/slick/slick.min.js\" type=\"text/javascript\"></script>\n",
            "<script src=\"https://mobelix.com.mk/themes/mobelix/assets/js/wow.min.js\"></script>\n",
            "<script src=\"https://mobelix.com.mk/themes/mobelix/assets/js/jquery.paroller.min.js\"></script>\n",
            "<script>\n",
            "        wow = new WOW(\n",
            "          {\n",
            "            boxClass: 'wow',\n",
            "            mobile: false,\n",
            "              }    \n",
            "        )\n",
            "        wow.init();\n",
            "        $(document).ready(function(){\n",
            "            $('header .input-search .input-group .form-control').click(function(){\n",
            "                $('header .input-search .input-group').addClass('active');\n",
            "            });\n",
            "        });\n",
            "    </script>\n",
            "<script>\n",
            "        $(document).ready(function($) {  \n",
            "        \t$('#preloader').fadeOut('slow',function(){$(this).remove();});\n",
            "        });\n",
            "        </script>\n",
            "<script src=\"/modules/system/assets/js/framework.js\"></script>\n",
            "<script src=\"/modules/system/assets/js/framework.extras.js\"></script>\n",
            "<link href=\"/modules/system/assets/css/framework.extras.css\" property=\"stylesheet\" rel=\"stylesheet\"/>\n",
            "<script>\n",
            "\n",
            "    $(function(){\n",
            "\n",
            "      // bind change event to select\n",
            "\n",
            "      $('#brandSelect, #categorySelect').on('change', function () {\n",
            "\n",
            "          var url = $(this).val(); // get selected value\n",
            "\n",
            "          if (url) { // require a URL\n",
            "\n",
            "              window.location = url; // redirect\n",
            "\n",
            "          }\n",
            "\n",
            "          return false;\n",
            "\n",
            "      });\n",
            "\n",
            "      $('#orderForm').on('change','input, select', function() {\n",
            "\n",
            "        $('#orderForm').submit();\n",
            "\n",
            "      });\n",
            "\n",
            "    });\n",
            "\n",
            "</script> </body>\n",
            "</html>\n"
          ]
        }
      ]
    },
    {
      "cell_type": "markdown",
      "metadata": {
        "id": "mqvuxiNJvOT8"
      },
      "source": [
        "# <font color='Orange'>Extracting data</font> (0.7 POINTS)"
      ]
    },
    {
      "cell_type": "markdown",
      "metadata": {
        "id": "gbdg1SjjvTmB"
      },
      "source": [
        "From the printed HTML code search for the data you need for building the dataset, by the classes that are given above in the html tags listed.\n",
        "\n"
      ]
    },
    {
      "cell_type": "markdown",
      "metadata": {
        "id": "rl9n1bepzUdy"
      },
      "source": [
        "**Try to select the first element from your attributes. Find out from the html code what part do you need.**"
      ]
    },
    {
      "cell_type": "code",
      "metadata": {
        "id": "z7JDG2pGvSTo",
        "colab": {
          "base_uri": "https://localhost:8080/"
        },
        "outputId": "041e02e9-88a7-4c61-fe9c-fe4bee754f8d"
      },
      "source": [
        "brand = data[0].select_one('h5.mb-0').text\n",
        "pType = data[0].select_one('h3.h5.font-weight-normal').text\n",
        "price = data[0].select_one('p.h5.price').text\n",
        "print(brand + \" \" + pType + \" \" + price)\n"
      ],
      "execution_count": null,
      "outputs": [
        {
          "output_type": "stream",
          "name": "stdout",
          "text": [
            "Blackberry Porsche Design P9981 19,000.00 ден\n"
          ]
        }
      ]
    },
    {
      "cell_type": "markdown",
      "metadata": {
        "id": "XLlJNiHBwB_V"
      },
      "source": [
        "**Add as many codeboxes as you need for selecting all the html elements**"
      ]
    },
    {
      "cell_type": "code",
      "metadata": {
        "id": "7Akbhl7ww91O",
        "colab": {
          "base_uri": "https://localhost:8080/"
        },
        "outputId": "f0b3f549-48c2-4e56-bd3e-b333c3ac3d54"
      },
      "source": [
        "brands = []\n",
        "pTypes = []\n",
        "prices_2 = []\n",
        "\n",
        "for item in data:\n",
        "  brands.append(item.find('h5', {'class' : 'mb-0'}).text.strip())\n",
        "  pTypes.append(item.find('h3',{'class': 'h5 font-weight-normal'}).text.strip())\n",
        "  prices_2.append(item.find('p',{'class':'h5 price'}).text.strip())\n",
        "print(prices_2)"
      ],
      "execution_count": null,
      "outputs": [
        {
          "output_type": "stream",
          "name": "stdout",
          "text": [
            "['19,000.00 ден', '9,200.008,300.00 ден', '10,500.008,300.00 ден', '67,600.0061,500.00 ден', '94,100.0089,200.00 ден', '80,000.0078,100.00 ден', '116,900.0098,400.00 ден', '58,500.0055,300.00 ден', '47,990.0046,800.00 ден', '19,000.00 ден', '9,200.008,300.00 ден', '10,500.008,300.00 ден', '67,600.0061,500.00 ден', '94,100.0089,200.00 ден', '80,000.0078,100.00 ден', '116,900.0098,400.00 ден', '58,500.0055,300.00 ден', '47,990.0046,800.00 ден', '48,000.0044,800.00 ден', '66,400.00 ден', '94,100.0089,200.00 ден', '61,500.0056,600.00 ден', '116,900.0098,400.00 ден', '58,500.0055,300.00 ден', '64,600.0061,500.00 ден', '67,600.0061,500.00 ден', '47,990.0046,800.00 ден', '61,500.0060,300.00 ден', '73,800.0067,600.00 ден', '89,200.0086,200.00 ден', '48,000.0044,800.00 ден', '83,000.0076,900.00 ден', '55,300.0052,300.00 ден', '104,600.0098,400.00 ден', '64,600.0061,500.00 ден', '64,600.0060,300.00 ден', '86,100.0083,000.00 ден', '113,800.00104,600.00 ден', '43,000.0040,000.00 ден', '122,900.00116,900.00 ден', '98,300.0092,300.00 ден', '113,600.00107,600.00 ден', '72,600.0069,500.00 ден', '49,200.0044,900.00 ден', '46,700.0045,500.00 ден', '92,300.0089,300.00 ден', '51,100.0047,900.00 ден', '52,300.0050,400.00 ден', '81,300.0076,800.00 ден', '57,200.0054,100.00 ден', '41,800.0039,900.00 ден', '63,400.0060,300.00 ден', '67,700.0066,400.00 ден', '86,100.0078,100.00 ден', '83,000.0076,900.00 ден', '62,700.0060,300.00 ден', '23,400.0022,800.00 ден', '32,000.0028,300.00 ден', '6,100.004,900.00 ден', '9,800.009,200.00 ден', '30,700.0027,700.00 ден', '29,500.0027,700.00 ден', '16,600.00 ден', '16,600.00 ден', '9,200.008,600.00 ден', '12,300.00 ден', '16,600.0014,800.00 ден', '40,000.0036,800.00 ден', '4,300.00 ден', '6,100.00 ден', '55,400.00 ден', '18,500.0015,400.00 ден', '40,000.0036,900.00 ден', '18,500.00 ден', '15,200.0010,500.00 ден', '16,000.0012,300.00 ден', '12,900.0012,300.00 ден', '26,500.0018,500.00 ден', '12,300.0010,500.00 ден', '54,100.00 ден', '8,000.00 ден', '27,000.0024,600.00 ден', '49,200.0036,900.00 ден', '35,800.0032,600.00 ден', '29,500.0026,500.00 ден', '27,000.0024,600.00 ден', '55,400.0052,290.00 ден', '21,500.0016,600.00 ден', '20,300.0017,200.00 ден', '34,400.0030,800.00 ден', '23,400.00 ден', '16,600.0015,400.00 ден', '19,700.0018,500.00 ден', '26,400.0025,800.00 ден', '18,500.0016,600.00 ден', '24,600.0023,400.00 ден', '49,200.0046,100.00 ден', '28,900.00 ден', '40,000.00 ден', '61,500.00 ден', '46,100.00 ден', '38,100.0034,400.00 ден', '10,500.00 ден', '10,500.00 ден', '43,000.00 ден', '43,000.0039,900.00 ден', '49,200.0043,000.00 ден', '76,900.0064,600.00 ден', '33,800.00 ден', '55,400.0046,200.00 ден', '215,200.00 ден', '86,100.0076,900.00 ден', '80,000.0070,700.00 ден', '95,300.0080,000.00 ден', '10,500.00 ден', '41,800.0036,900.00 ден', '30,800.0024,600.00 ден', '75,600.0070,700.00 ден', '10,500.007,400.00 ден', '86,100.00 ден', '36,900.0033,800.00 ден', '33,800.00 ден', '30,500.0027,700.00 ден', '13,500.00 ден', '107,600.0086,100.00 ден', '14,200.00 ден', '24,600.0021,500.00 ден', '43,000.0040,000.00 ден', '10,500.009,200.00 ден', '83,000.0061,500.00 ден', '61,500.00 ден', '98,400.0076,900.00 ден', '110,700.00 ден', '38,100.00 ден', '86,100.00 ден', '58,400.00 ден', '16,600.00 ден', '18,500.00 ден', '36,900.00 ден', '19,100.0018,500.00 ден', '24,600.00 ден', '62,700.0060,900.00 ден', '13,000.0012,000.00 ден', '24,600.00 ден', '36,900.00 ден', '52,300.00 ден', '29,500.0027,700.00 ден', '8,000.00 ден', '9,200.00 ден', '64,600.00 ден', '29,500.0027,700.00 ден', '19,700.0017,200.00 ден', '24,600.0022,100.00 ден', '12,300.00 ден', '33,800.0027,700.00 ден', '73,800.00 ден', '43,000.00 ден', '58,400.0049,200.00 ден', '83,000.0079,900.00 ден', '76,900.00 ден', '53,500.0050,400.00 ден', '58,400.0053,500.00 ден', '59,600.0058,400.00 ден', '37,800.0036,300.00 ден', '44,900.0043,100.00 ден', '48,600.0046,200.00 ден', '54,100.0052,300.00 ден', '49,200.0043,000.00 ден', '24,600.0021,500.00 ден', '24,600.0022,100.00 ден', '21,500.00 ден', '19,700.00 ден', '13,500.009,500.00 ден', '27,700.0025,800.00 ден', '43,000.0040,000.00 ден', '9,800.008,500.00 ден', '67,600.00 ден', '27,000.0024,000.00 ден', '66,400.0058,400.00 ден', '9,800.00 ден', '8,000.007,400.00 ден', '24,600.0020,900.00 ден', '16,000.0015,400.00 ден', '17,200.00 ден', '49,200.00 ден', '25,800.00 ден', '43,000.0040,000.00 ден', '64,600.0061,500.00 ден', '22,700.0020,300.00 ден', '54,000.0049,200.00 ден', '17,200.0015,400.00 ден', '18,500.0016,900.00 ден', '33,800.0030,800.00 ден', '12,890.0012,290.00 ден', '13,490.00 ден', '40,000.00 ден', '11,000.00 ден', '12,890.0012,290.00 ден', '21,500.0019,700.00 ден', '43,000.0040,000.00 ден']\n"
          ]
        }
      ]
    },
    {
      "cell_type": "markdown",
      "metadata": {
        "id": "3FYrNwA2xRYi"
      },
      "source": [
        "**Create lists with the extracted data from the html elements that you selected**"
      ]
    },
    {
      "cell_type": "code",
      "metadata": {
        "id": "Dpn7STkFxVVq"
      },
      "source": [
        "prices = []\n",
        "for price in prices_2:\n",
        "    price_element = price.split(\".\")\n",
        "\n",
        "    if len(price_element) > 2:\n",
        "      price_2 = price_element[1]\n",
        "      price_2 = price_2.lstrip('0').replace(',','')\n",
        "      prices.append(float(price_2))\n",
        "    else:\n",
        "      price_element[0] = price_element[0].replace(',','')\n",
        "      prices.append(float(price_element[0]))\n",
        "\n"
      ],
      "execution_count": null,
      "outputs": []
    },
    {
      "cell_type": "markdown",
      "metadata": {
        "id": "owIxGxmHxFSF"
      },
      "source": [
        "**Print all lists that are containing the elements**"
      ]
    },
    {
      "cell_type": "code",
      "metadata": {
        "id": "Etep-NWrxP57",
        "colab": {
          "base_uri": "https://localhost:8080/"
        },
        "outputId": "888fd9d2-7129-4693-e8c0-d9710a30365d"
      },
      "source": [
        "print(brands)\n",
        "print(prices)\n",
        "print(pTypes)"
      ],
      "execution_count": null,
      "outputs": [
        {
          "output_type": "stream",
          "name": "stdout",
          "text": [
            "['Blackberry', 'Samsung', 'Samsung', 'Apple', 'Apple', 'Apple', 'Apple', 'Apple', 'Apple', 'Blackberry', 'Samsung', 'Samsung', 'Apple', 'Apple', 'Apple', 'Apple', 'Apple', 'Apple', 'Apple', 'Apple', 'Apple', 'Apple', 'Apple', 'Apple', 'Apple', 'Apple', 'Apple', 'Apple', 'Apple', 'Apple', 'Apple', 'Apple', 'Apple', 'Apple', 'Apple', 'Apple', 'Apple', 'Apple', 'Apple', 'Apple', 'Apple', 'Apple', 'Apple', 'Apple', 'Apple', 'Apple', 'Apple', 'Apple', 'Apple', 'Apple', 'Apple', 'Apple', 'Apple', 'Apple', 'Apple', 'Apple', 'Samsung', 'Apple', 'Samsung', 'Huawei', 'One Plus', 'Apple', 'Oppo', 'Oppo', 'Apple', 'Apple', 'Apple', 'Honor', 'Nokia', 'Nokia', 'Honor', 'Samsung', 'Xiaomi', 'Xiaomi', 'Samsung', 'Oppo', 'Xiaomi', 'Xiaomi', 'Xiaomi', 'Xiaomi', 'Xiaomi', 'Samsung', 'Samsung', 'Apple', 'Xiaomi', 'Apple', 'One Plus', 'Samsung', 'Xiaomi', 'Samsung', 'Xiaomi', 'Xiaomi', 'Xiaomi', 'Xiaomi', 'Honor', 'Honor', 'ASUS', 'Xiaomi', 'Xiaomi', 'Google', 'Google', 'Samsung', 'Samsung', 'Nothing', 'Xiaomi', 'ASUS', 'ASUS', 'Apple', 'One Plus', 'One Plus', 'Apple', 'Apple', 'Apple', 'Apple', 'Xiaomi', 'Apple', 'Nothing', 'Samsung', 'Samsung', 'Apple', 'Google', 'Apple', 'Xiaomi', 'Xiaomi', 'Apple', 'Xiaomi', 'Google', 'Google', 'Samsung', 'Xiaomi', 'ASUS', 'ASUS', 'ASUS', 'Realme', 'Apple', 'Apple', 'Blackberry', 'Blackberry', 'One Plus', 'Samsung', 'Honor', 'Xiaomi', 'Samsung', 'Xiaomi', 'Oppo', 'Apple', 'Xiaomi', 'Samsung', 'Samsung', 'Honor', 'Google', 'Samsung', 'Xiaomi', 'Realme', 'GoPro', 'Motorola', 'Nothing', 'Samsung', 'Samsung', 'Apple', 'Apple', 'Apple', 'Samsung', 'Samsung', 'Samsung', 'Samsung', 'Samsung', 'One Plus', 'Xiaomi', 'Xiaomi', 'Xiaomi', 'Xiaomi', 'Samsung', 'Xiaomi', 'Samsung', 'Samsung', 'Vivo', 'Xiaomi', 'Xiaomi', 'Xiaomi', 'Apple', 'Samsung', 'Samsung', 'Xiaomi', 'Xiaomi', 'Oppo', 'Google', 'Google', 'Realme', 'Xiaomi', 'Xiaomi', 'Xiaomi', 'One Plus', 'Xiaomi', 'Xiaomi', 'Apple', 'Apple', 'Xiaomi', 'One Plus', 'One Plus']\n",
            "[19000.0, 8300.0, 8300.0, 61500.0, 89200.0, 78100.0, 98400.0, 55300.0, 46800.0, 19000.0, 8300.0, 8300.0, 61500.0, 89200.0, 78100.0, 98400.0, 55300.0, 46800.0, 44800.0, 66400.0, 89200.0, 56600.0, 98400.0, 55300.0, 61500.0, 61500.0, 46800.0, 60300.0, 67600.0, 86200.0, 44800.0, 76900.0, 52300.0, 98400.0, 61500.0, 60300.0, 83000.0, 104600.0, 40000.0, 116900.0, 92300.0, 107600.0, 69500.0, 44900.0, 45500.0, 89300.0, 47900.0, 50400.0, 76800.0, 54100.0, 39900.0, 60300.0, 66400.0, 78100.0, 76900.0, 60300.0, 22800.0, 28300.0, 4900.0, 9200.0, 27700.0, 27700.0, 16600.0, 16600.0, 8600.0, 12300.0, 14800.0, 36800.0, 4300.0, 6100.0, 55400.0, 15400.0, 36900.0, 18500.0, 10500.0, 12300.0, 12300.0, 18500.0, 10500.0, 54100.0, 8000.0, 24600.0, 36900.0, 32600.0, 26500.0, 24600.0, 52290.0, 16600.0, 17200.0, 30800.0, 23400.0, 15400.0, 18500.0, 25800.0, 16600.0, 23400.0, 46100.0, 28900.0, 40000.0, 61500.0, 46100.0, 34400.0, 10500.0, 10500.0, 43000.0, 39900.0, 43000.0, 64600.0, 33800.0, 46200.0, 215200.0, 76900.0, 70700.0, 80000.0, 10500.0, 36900.0, 24600.0, 70700.0, 7400.0, 86100.0, 33800.0, 33800.0, 27700.0, 13500.0, 86100.0, 14200.0, 21500.0, 40000.0, 9200.0, 61500.0, 61500.0, 76900.0, 110700.0, 38100.0, 86100.0, 58400.0, 16600.0, 18500.0, 36900.0, 18500.0, 24600.0, 60900.0, 12000.0, 24600.0, 36900.0, 52300.0, 27700.0, 8000.0, 9200.0, 64600.0, 27700.0, 17200.0, 22100.0, 12300.0, 27700.0, 73800.0, 43000.0, 49200.0, 79900.0, 76900.0, 50400.0, 53500.0, 58400.0, 36300.0, 43100.0, 46200.0, 52300.0, 43000.0, 21500.0, 22100.0, 21500.0, 19700.0, 9500.0, 25800.0, 40000.0, 8500.0, 67600.0, 24000.0, 58400.0, 9800.0, 7400.0, 20900.0, 15400.0, 17200.0, 49200.0, 25800.0, 40000.0, 61500.0, 20300.0, 49200.0, 15400.0, 16900.0, 30800.0, 12290.0, 13490.0, 40000.0, 11000.0, 12290.0, 19700.0, 40000.0]\n",
            "['Porsche Design P9981', 'Galaxy A03s 4/64GB', 'Galaxy A04s 3/32GB', 'iPhone 14 Pro Max 128GB E-SIM', 'iPhone 14 Pro 512GB', 'iPhone 14 Pro Max 512GB', 'iPhone 14 Pro Max 1TB', 'iPhone 14 Pro 128GB E-SIM', 'iPhone 13 Mini 256GB', 'Porsche Design P9981', 'Galaxy A03s 4/64GB', 'Galaxy A04s 3/32GB', 'iPhone 14 Pro Max 128GB E-SIM', 'iPhone 14 Pro 512GB', 'iPhone 14 Pro Max 512GB', 'iPhone 14 Pro Max 1TB', 'iPhone 14 Pro 128GB E-SIM', 'iPhone 13 Mini 256GB', 'iPhone 14 Plus 128GB E-SIM', 'iPhone 14 Pro Max 128GB', 'iPhone 14 Pro 512GB', 'iPhone 14 Plus 256GB', 'iPhone 14 Pro Max 1TB', 'iPhone 14 Pro 128GB E-SIM', 'iPhone 14 Pro 256GB E-SIM', 'iPhone 14 Pro Max 128GB E-SIM', 'iPhone 13 Mini 256GB', 'iPhone 14 Pro 128GB', 'iPhone 14 Pro Max 256GB E-SIM', 'iPhone 14 Pro Max 512GB E-SIM', 'iPhone 14 Plus 128GB E-SIM', 'iPhone 15 Pro 128GB', 'iPhone 15 128GB', 'iPhone 15 Pro Max 256GB', 'iPhone 15 Plus 128GB', 'iPhone 15 256GB', 'iPhone 15 Pro 256GB', 'iPhone 15 Pro Max 512GB', 'iPhone 13 Mini 128GB', 'iPhone 15 Pro Max 1TB', 'iPhone 15 Pro 512GB', 'iPhone 15 Pro 1TB', 'iPhone 13 Pro Max 512GB', 'iPhone 13 256GB', 'iPhone 14 128GB', 'iPhone 14 Pro 1TB E-SIM', 'iPhone 14 Plus 256GB E-SIM', 'iPhone 13 512GB', 'iPhone 14 Pro 512GB E-SIM', 'iPhone 13 Pro 128GB', 'iPhone 13 128GB', 'iPhone 13 Pro 256GB', 'iPhone 13 Pro Max 256GB', 'iPhone 13 Pro Max 1TB', 'iPhone 13 Pro 1TB', 'iPhone 13 Pro Max 128GB', 'Galaxy S21 FE 5G 8GB RAM/128GB', 'Apple iPad 10th Gen Wi-Fi  64GB', 'Galaxy Buds Live', 'P40 lite E', '7T 8GB/256GB', 'iPhone 11 64GB', 'A9 2020', 'F11 Pro', 'Air Pods 2', 'Air Pods 3', 'Air Pods Pro 2', 'View 20', '8110 4G', '6310', 'Magic 4 Pro 8GB RAM/256GB', 'Galaxy M33 5G 6GB RAM/128GB', 'Poco F4 GT 5G 12GB RAM/256GB', 'Redmi Note 11 PRO 8GB RAM/128GB', 'Galaxy A23 4GB RAM/64GB', 'Find X3 Lite 5G 8GB RAM/128GB', 'Redmi Note 10T 5G 4GB RAM/64GB', 'Redmi Note 11 PRO+ 5G 8GB RAM/128GB', 'Redmi Note 11 4GB RAM/128GB', 'Mi 12 Pro 5G 12GB RAM/256GB', 'Xiaomi Mi Watch', 'Galaxy A73 5G 8GB RAM/128GB', 'Galaxy S22 5G 8/256GB', 'iPhone SE 2022 128GB', 'Xiaomi Mi 11T 5G 8GB RAM/256GB', 'iPhone SE 2022 64GB', '10 Pro 5G  12GB RAM/256GB', 'Galaxy M52 5G 8GB RAM/128GB', 'Poco X4 Pro 5G 6/128GB', 'Galaxy S22 5G 8/128GB', 'Xiaomi Mi 11T 5G 8GB RAM/128GB', 'Poco M3 Pro 5G 6GB RAM/128GB', 'Redmi Note 11T 5G 8GB RAM/128GB', 'Mi Pad 5', 'Honor 50 Lite 8GB RAM/128GB', 'Honor 50 6GB RAM/128GB', 'Zenfone 10 8GB RAM/256GB', 'Mi 13T 5G 12GB RAM/256GB', 'Mi 13T Pro 5G 12GB RAM/512GB', 'Pixel 8 Pro 8GB RAM/128GB', 'Pixel 8 8GB RAM/128GB', 'Galaxy S23 FE 5G 8/128GB', 'Samsung Galaxy A14 5G 4GB RAM/128GB', 'Nothing Ear 2 Wireless Earbuds', 'Mi 12T Pro 5G 12GB RAM/256GB', 'Zenfone 9 8GB RAM/128GB', 'Zenfone 9 8GB RAM/256GB', 'Apple iPad Pro 2022 M2 11\" 5G 256GB', 'ACE Pro 5G  12GB RAM/256GB', 'One Plus 11 5G 16GB RAM/256GB', 'Apple MacBook Pro 16\" M1 MAX 1TB', 'Apple iPad Pro 2022 M2 12.9\" 256GB', 'Apple iPad Pro 2022 M2 12.9\" 128GB', 'Apple iPad Pro 2022 M2 12.9\" 5G 256GB', 'Poco C40 4GB RAM/64GB', 'iPad Air 5 64GB Wifi', 'Phone 1 8GB RAM/256GB', 'Samsung Galaxy Z Fold 4 5G 12GB RAM/256GB', 'Buds Pro-1', 'Apple MacBook Pro 13\" M2  256GB', 'Pixel 7 8GB RAM/128GB', 'iPad Mini 64GB Wifi', 'Mi 12 Lite 8GB RAM/256GB', 'Redmi Note 11 6GB RAM/128GB', 'Apple iPad Pro 2022 M2 12.9\" 5G 512GB', 'Poco M5S 6GB RAM/128GB', 'Google Pixel 6A 6GB RAM/128GB', 'Pixel 7 Pro 12GB RAM/128GB', 'Galaxy F22 4GB RAM/64GB', 'Xiaomi 12s Ultra 5G 12GB RAM/512GB', 'Asus ROG Phone 6D 16GB RAM/256GB', 'Asus ROG Phone 6 Batman Edition 12GB RAM/256GB', 'Asus ROG Phone 6D Ultimate 16GB RAM/512GB', 'Realme GT3 16GB RAM/1TB', 'Apple iPad Pro 2022 M2 16.9\" 5G 512GB', 'Apple iPad Pro 2022 M2 11\" 5G 128GB', 'Blackberry Porsche Design P9982', 'Blackberry Porsche Design P9983', 'One Plus 11R 5G 16GB RAM/256GB', 'Galaxy A54 5G 8GB RAM/128GB', 'Honor X9a 5G 8GB RAM/256GB', 'Xiaomi 13 Ultra 5G 12GB RAM/256GB', 'Galaxy A24 4GB RAM/128GB', 'Redmi Note 12 Turbo 5G 12GB RAM/512GB', 'Oppo Find X3 Pro 12GB RAM/256GB', 'Apple iPad Pro 2022 M2 11\" WIFI 128GB', 'Xiaomi Poco F5 PRO 5G 12GB RAM/256GB', 'Galaxy F04 4GB RAM/64GB', 'Galaxy F13 4GB RAM/64GB', 'Magic 5 Pro 8GB RAM/256GB', 'Pixel 7a 8GB RAM/128GB', 'Galaxy M53 5G 8GB RAM/128GB', 'Xiaomi Poco F5 5G 12GB RAM/256GB', 'Realme C53 6GB RAM/128GB', 'GOPRO HERO 11 BLACK', 'Motorola Razr 40 Ultra', 'Phone 2 12GB RAM/256GB', 'Samsung Galaxy Z Flip 5 5G 8GB RAM/256GB', 'Galaxy Z Fold 5 5G 12GB RAM/256GB', 'Apple MacBook Air 13.6\" M2  256GB', 'iPhone 12 Pro Max 128GB', 'iPhone 12 Pro Max 256GB', 'Galaxy S23 Ultra 5G 12/512GB', 'Galaxy S23 5G 8/128GB', 'Galaxy S23+ 5G 8/256GB', 'Galaxy S22 Ultra 5G 12/256GB', 'Galaxy S23 Ultra 5G 12/256GB', 'One Plus 11 5G 8GB RAM/128GB', 'Xiaomi Poco X5 PRO 5G 8GB RAM/256GB', 'Redmi Note 12 Pro+ 5G 8GB RAM/256GB', 'Redmi Note 12 Pro 5G 6GB RAM/128GB', 'Redmi Note 12 5G 6GB RAM/128GB', 'Samsung Galaxy A14 5G 4GB RAM/64GB', 'Redmi Note 12 Pro+ 5G 12GB RAM/256GB', 'Galaxy S23 5G 8/256GB', 'Samsung Buds 2 Pro', 'vivo X90 Pro 5G 12/256GB', 'Xiaomi 13 lite 8GB RAM/256GB', 'Xiaomi 13 Pro 5G 12GB RAM/256GB', 'Redmi 12C 4GB RAM/128GB', 'AirTag 4 pack', 'Galaxy A54 5G 8GB RAM/256GB', 'Galaxy A34 5G 8GB RAM/128GB', 'Redmi Note 11 PRO+ 5G 6GB RAM/128GB', 'Xiaomi 13 5G 12GB RAM/256GB', 'Oppo Reno 8 5G 8GB RAM/256GB', 'Pixel 6 8GB RAM/128GB', 'Pixel 6 Pro 12GB RAM/128GB', 'Realme GT Master 5G 8GB RAM/256GB', 'Mi 11 Ultra 5G 12GB RAM/256GB', 'Xiaomi Poco X3 PRO 6GB RAM/128GB', 'Redmi Note 10 PRO MAX 6GB RAM/128GB', '9 5G 8GB RAM/128GB', 'Redmi Note 9T 5G 4GB RAM/64GB', 'Redmi Note 10 5G 4GB RAM/128GB', 'AirPods Max', 'HomePod Mini', 'Poco M3 4GB RAM/128GB', 'Nord N10 6GB RAM/128GB', '8 Pro 12GB Ram/256']\n"
          ]
        }
      ]
    },
    {
      "cell_type": "markdown",
      "metadata": {
        "id": "xrgwuG6CxtDM"
      },
      "source": [
        "**Check if all lists are the same size**"
      ]
    },
    {
      "cell_type": "code",
      "metadata": {
        "id": "mwkhPgtQx7E0",
        "colab": {
          "base_uri": "https://localhost:8080/"
        },
        "outputId": "cbe923d9-ff88-4715-9828-01a67ce5eb4d"
      },
      "source": [
        "len(prices) == len(brands) == len(pTypes)"
      ],
      "execution_count": null,
      "outputs": [
        {
          "output_type": "execute_result",
          "data": {
            "text/plain": [
              "True"
            ]
          },
          "metadata": {},
          "execution_count": 94
        }
      ]
    },
    {
      "cell_type": "markdown",
      "metadata": {
        "id": "lH_ppKn4yD5b"
      },
      "source": [
        "# <font color='Orange'>Create a Pandas DataFrame</font> (0.1 POINTS)\n"
      ]
    },
    {
      "cell_type": "markdown",
      "metadata": {
        "id": "tU3fJNVuyKTA"
      },
      "source": [
        "**Create the DataFrame from the lists you get and name your *Columns***"
      ]
    },
    {
      "cell_type": "code",
      "metadata": {
        "id": "bFURoHfTyJt2"
      },
      "source": [
        "data_table = []\n",
        "for i in range(0,len(brands)):\n",
        "  item = {}\n",
        "  item['Brand'] = brands[i]\n",
        "  item['Type'] = pTypes[i]\n",
        "  item['Price'] = prices[i]\n",
        "  data_table.append(item)\n",
        "df = pd.DataFrame(data_table)\n",
        "\n"
      ],
      "execution_count": null,
      "outputs": []
    },
    {
      "cell_type": "markdown",
      "metadata": {
        "id": "u9XJ3NE0yl9s"
      },
      "source": [
        "**Print the dataset you obtain**"
      ]
    },
    {
      "cell_type": "code",
      "metadata": {
        "id": "HGL5yi9fysOj",
        "colab": {
          "base_uri": "https://localhost:8080/"
        },
        "outputId": "d4f5c1d5-e58a-4f48-dffe-a81cac726968"
      },
      "source": [
        "print(df)"
      ],
      "execution_count": null,
      "outputs": [
        {
          "output_type": "stream",
          "name": "stdout",
          "text": [
            "          Brand                           Type    Price\n",
            "0    Blackberry           Porsche Design P9981  19000.0\n",
            "1       Samsung             Galaxy A03s 4/64GB   8300.0\n",
            "2       Samsung             Galaxy A04s 3/32GB   8300.0\n",
            "3         Apple  iPhone 14 Pro Max 128GB E-SIM  61500.0\n",
            "4         Apple            iPhone 14 Pro 512GB  89200.0\n",
            "..          ...                            ...      ...\n",
            "195       Apple                    AirPods Max  40000.0\n",
            "196       Apple                   HomePod Mini  11000.0\n",
            "197      Xiaomi          Poco M3 4GB RAM/128GB  12290.0\n",
            "198    One Plus         Nord N10 6GB RAM/128GB  19700.0\n",
            "199    One Plus             8 Pro 12GB Ram/256  40000.0\n",
            "\n",
            "[200 rows x 3 columns]\n"
          ]
        }
      ]
    },
    {
      "cell_type": "markdown",
      "source": [
        "#<font color='orange'>EDA</font> (0.2 POINTS)"
      ],
      "metadata": {
        "id": "8u9H31SUXq-6"
      }
    },
    {
      "cell_type": "markdown",
      "source": [
        "## <font color='Orange'>Find statistic elements for the prices</font>\n",
        "Like mean, median,  standard deviation, minimum, maximum"
      ],
      "metadata": {
        "id": "8n4VKGleX1pd"
      }
    },
    {
      "cell_type": "code",
      "source": [
        "print(df['Price'].mean())\n",
        "print(df['Price'].median())\n",
        "print(df['Price'].std())\n",
        "print(df['Price'].min())\n",
        "print(df['Price'].max())"
      ],
      "metadata": {
        "id": "UFC5emuNXta7",
        "colab": {
          "base_uri": "https://localhost:8080/"
        },
        "outputId": "e088e850-c208-49c9-984d-cbebc781740e"
      },
      "execution_count": null,
      "outputs": [
        {
          "output_type": "stream",
          "name": "stdout",
          "text": [
            "42347.8\n",
            "39000.0\n",
            "29247.022734874594\n",
            "4300.0\n",
            "215200.0\n"
          ]
        }
      ]
    },
    {
      "cell_type": "markdown",
      "source": [
        "# <font color = 'Orange'>Data visualization </font> (0.3 POINTS)"
      ],
      "metadata": {
        "id": "KOAnAw20X7yP"
      }
    },
    {
      "cell_type": "markdown",
      "source": [
        "Make a histogram & bar chart for the price values\n",
        "\n",
        "> `Indented block`\n",
        "\n"
      ],
      "metadata": {
        "id": "4CuvYjAJYBXw"
      }
    },
    {
      "cell_type": "code",
      "source": [
        "df['Price'].hist()\n",
        "plt.xlabel('Price')\n",
        "plt.ylabel('Frequency')"
      ],
      "metadata": {
        "id": "4dhjqmPEX_eP",
        "colab": {
          "base_uri": "https://localhost:8080/",
          "height": 466
        },
        "outputId": "476d5ef7-4a9f-4ba5-e6ba-418fe1be843d"
      },
      "execution_count": null,
      "outputs": [
        {
          "output_type": "execute_result",
          "data": {
            "text/plain": [
              "Text(0, 0.5, 'Frequency')"
            ]
          },
          "metadata": {},
          "execution_count": 113
        },
        {
          "output_type": "display_data",
          "data": {
            "text/plain": [
              "<Figure size 640x480 with 1 Axes>"
            ],
            "image/png": "[encoded data removed]"
          },
          "metadata": {}
        }
      ]
    },
    {
      "cell_type": "code",
      "source": [
        "plt.figure(figsize=(10, 6))\n",
        "plt.bar(range(len(prices)), prices)\n",
        "plt.title('Price Bar Chart')\n",
        "plt.xlabel('Index')\n",
        "plt.ylabel('Price')\n",
        "plt.show()"
      ],
      "metadata": {
        "colab": {
          "base_uri": "https://localhost:8080/",
          "height": 564
        },
        "id": "jUqpi0RVOD0k",
        "outputId": "12e418bc-c249-4a28-e4c8-5950cd8f5bb2"
      },
      "execution_count": null,
      "outputs": [
        {
          "output_type": "display_data",
          "data": {
            "text/plain": [
              "<Figure size 1000x600 with 1 Axes>"
            ],
            "image/png": "[encoded data removed]"
          },
          "metadata": {}
        }
      ]
    },
    {
      "cell_type": "code",
      "source": [],
      "metadata": {
        "id": "oKAVKA3KOns1"
      },
      "execution_count": null,
      "outputs": []
    }
  ]
}